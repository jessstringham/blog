{
 "cells": [
  {
   "cell_type": "markdown",
   "metadata": {},
   "source": [
    "# Bayesian Linear Regression part 2: demo data\n",
    "\n",
    "![sigmoid function with x's marking samples](images/2018-01-08-sigmoid.png)\n",
    "\n",
    "When I was first looking at machine learning demo code, there was sometimes a scary amount of code for the setup.\n",
    "I learned that a lot of this is to generate observations.\n",
    "After doing a few on my own, it's a little less scary! Here are a few examples."
   ]
  },
  {
   "cell_type": "markdown",
   "metadata": {},
   "source": [
    "## Why do this?\n",
    "\n",
    "In [**Part 1**]({% post_url 2018-01-03-bayesian-linreg %}) of this series, I showed how\n",
    "to sample fits from a prior on the weights.\n",
    "Later I want to show how to combine this with observations to get a posterior on the weights, which I'll then use to make predictions. But to do that, I need observations.\n",
    "\n",
    "\n",
    "One way to do this is to start with the underlying function, find the function value at some inputs, add some noise (usually Gaussian), and call these our observations. Then apply the machine learning techniques to those observations, and compare its guess of the function to the real function.\n",
    "\n",
    "$$y = f(\\textbf x) + v$$\n",
    "\n",
    "\n",
    "(I use bold, like \\\\(\\textbf x\\\\), to indicate it's a vector. So \\\\( f \\\\) takes a vector and returns a scalar.)\n",
    "This matches super well with how textbooks and courses start talking about machine learning. (Also with experiments and statistics!) They start by assuming that observations are a combination of an underlying function and noise, and the goal is to find the underlying function.\n",
    "\n",
    "\n",
    "### Other ways\n",
    "\n",
    "tbh, I don't know all of the other ways to do this!\n",
    "\n",
    "I know one way to get sample data would be to use a real dataset, like one from [scikit-learn](http://scikit-learn.org/stable/datasets/index.html) or [Kaggle](http://kaggle.com). I imagine these could make it a little harder to see what a machine learning technique does.\n",
    "\n",
    "## Code\n",
    "\n",
    "I'm going to use numpy and matplotlib."
   ]
  },
  {
   "cell_type": "code",
   "execution_count": 1,
   "metadata": {},
   "outputs": [],
   "source": [
    "import numpy as np\n",
    "import matplotlib.pyplot as plt\n",
    "\n",
    "\n",
    "# helper functions you can skip over :D\n",
    "SAVE = True\n",
    "def maybe_save_plot(filename):\n",
    "    if SAVE:\n",
    "        plt.tight_layout()\n",
    "        plt.savefig('images/' + filename, bbox_inches=\"tight\")"
   ]
  },
  {
   "cell_type": "markdown",
   "metadata": {},
   "source": [
    "### Choose x values\n",
    "\n",
    "I'll start by choosing some input values between -1 and 1.\n",
    "\n",
    "I could choose equally-spaced values with `np.linspace`:"
   ]
  },
  {
   "cell_type": "code",
   "execution_count": 2,
   "metadata": {},
   "outputs": [
    {
     "data": {
      "text/plain": [
       "array([-1. , -0.8, -0.6, -0.4, -0.2,  0. ,  0.2,  0.4,  0.6,  0.8,  1. ])"
      ]
     },
     "execution_count": 2,
     "metadata": {},
     "output_type": "execute_result"
    }
   ],
   "source": [
    "np.linspace(-1, 1, 11)"
   ]
  },
  {
   "cell_type": "markdown",
   "metadata": {},
   "source": [
    "    array([-1. , -0.8, -0.6, -0.4, -0.2,  0. ,  0.2,  0.4,  0.6,  0.8,  1. ])"
   ]
  },
  {
   "cell_type": "markdown",
   "metadata": {},
   "source": [
    "I could also select random, uniformly distributed points using `np.random.rand`:\n"
   ]
  },
  {
   "cell_type": "code",
   "execution_count": 3,
   "metadata": {},
   "outputs": [
    {
     "data": {
      "text/plain": [
       "array([-0.18694394,  0.37207171, -0.13893718, -0.40373811,  0.07984986,\n",
       "       -0.67336022, -0.73524264, -0.50283925, -0.52334059, -0.88069661,\n",
       "        0.27329753])"
      ]
     },
     "execution_count": 3,
     "metadata": {},
     "output_type": "execute_result"
    }
   ],
   "source": [
    "2 * np.random.rand(11) - 1"
   ]
  },
  {
   "cell_type": "markdown",
   "metadata": {},
   "source": [
    "    array([ 0.47838778, -0.50688054, -0.04976984,  0.43536156,  0.7769026 ,\n",
    "            0.10516738, -0.26796222,  0.35670553, -0.34742237,  0.01485432,\n",
    "            0.60064077])\n",
    "            \n",
    "\n",
    "Both of these give me a 1D array of size \\\\(N=11\\\\). Depending on what I'm going to do next, I might need to make it a 2D array of size \\\\(N \\times 1\\\\). Here's one way to do it using `[:, np.newaxis]` or `[:, None]`            "
   ]
  },
  {
   "cell_type": "code",
   "execution_count": 4,
   "metadata": {},
   "outputs": [
    {
     "data": {
      "text/plain": [
       "array([[-1. ],\n",
       "       [-0.8],\n",
       "       [-0.6],\n",
       "       [-0.4],\n",
       "       [-0.2],\n",
       "       [ 0. ],\n",
       "       [ 0.2],\n",
       "       [ 0.4],\n",
       "       [ 0.6],\n",
       "       [ 0.8],\n",
       "       [ 1. ]])"
      ]
     },
     "execution_count": 4,
     "metadata": {},
     "output_type": "execute_result"
    }
   ],
   "source": [
    "np.linspace(-1, 1, 11)[:, np.newaxis]  # or [:, None]"
   ]
  },
  {
   "cell_type": "markdown",
   "metadata": {},
   "source": [
    "    array([[-1. ],\n",
    "           [-0.8],\n",
    "           [-0.6],\n",
    "           [-0.4],\n",
    "           [-0.2],\n",
    "           [ 0. ],\n",
    "           [ 0.2],\n",
    "           [ 0.4],\n",
    "           [ 0.6],\n",
    "           [ 0.8],\n",
    "           [ 1. ]])\n",
    "    \n",
    "or I can ask `np.random.rand` for that shape:    "
   ]
  },
  {
   "cell_type": "code",
   "execution_count": 5,
   "metadata": {},
   "outputs": [],
   "source": [
    "x = 2 * np.random.rand(11, 1) - 1"
   ]
  },
  {
   "cell_type": "markdown",
   "metadata": {},
   "source": [
    "    array([[ 0.88124014],\n",
    "           [ 0.6336226 ],\n",
    "           [-0.13216228],\n",
    "           [-0.59228322],\n",
    "           [ 0.87360859],\n",
    "           [-0.96744198],\n",
    "           [ 0.0409076 ],\n",
    "           [ 0.99409816],\n",
    "           [-0.11102826],\n",
    "           [ 0.36738782],\n",
    "           [ 0.552644  ]])\n",
    "           \n",
    "\n",
    "This last one is what I'll use for the rest of this post.\n",
    "\n",
    "\n",
    "### Function\n",
    "\n",
    "Next, I can define the underlying function \\\\(f\\\\). This one will take in a scalar and return a scalar.           "
   ]
  },
  {
   "cell_type": "code",
   "execution_count": 6,
   "metadata": {},
   "outputs": [],
   "source": [
    "def f1(x):\n",
    "    return 0.3 * x + 2"
   ]
  },
  {
   "cell_type": "markdown",
   "metadata": {},
   "source": [
    "While I'm here, I think it's a good exercise to try to do this using vectors. In this case, `f1` could be rewritten is\n"
   ]
  },
  {
   "cell_type": "code",
   "execution_count": 7,
   "metadata": {},
   "outputs": [],
   "source": [
    "true_w = np.array([[2, 0.3]]).T\n",
    "\n",
    "def f2(x):\n",
    "    x_bias = np.hstack((\n",
    "        np.ones((x.shape[0], 1)),  # pad with 1s for the bias term\n",
    "        x\n",
    "    ))\n",
    "\n",
    "    return x_bias @ true_w"
   ]
  },
  {
   "cell_type": "markdown",
   "metadata": {},
   "source": [
    "\n",
    "### Noise\n",
    "\n",
    "To add some noise,\n",
    "\n",
    "$$v \\sim \\mathcal N(0, \\sigma_y)$$\n",
    "\n",
    "I can shift \\\\(N\\\\) numbers from `np.random.randn`. (Heads up, `randn` is totally different than `rand`. [`randn`](https://docs.scipy.org/doc/numpy/reference/generated/numpy.random.randn.html) is normally distributed around 0 with a variance of 1, while [`rand`](https://docs.scipy.org/doc/numpy/reference/generated/numpy.random.rand.html) is uniformly distributed over [0, 1).)\n",
    "\n",
    "To do this, I can use\n",
    "\n",
    "$$\\mathcal N(0, \\sigma_y) = \\sigma_y \\mathcal N(0, 1)$$\n",
    "\n",
    "or in code:\n"
   ]
  },
  {
   "cell_type": "code",
   "execution_count": 8,
   "metadata": {},
   "outputs": [],
   "source": [
    "true_sigma_y = 0.01\n",
    "\n",
    "noise = true_sigma_y * np.random.randn(x.shape[0], 1)"
   ]
  },
  {
   "cell_type": "markdown",
   "metadata": {},
   "source": [
    "\n",
    "### Result\n",
    "\n",
    "And finally to plot this"
   ]
  },
  {
   "cell_type": "code",
   "execution_count": 9,
   "metadata": {},
   "outputs": [
    {
     "data": {
      "image/png": "[encoded data removed]",
      "text/plain": [
       "<matplotlib.figure.Figure at 0x10f716358>"
      ]
     },
     "metadata": {},
     "output_type": "display_data"
    }
   ],
   "source": [
    "full_x = np.arange(-1, 1, 0.01)\n",
    "\n",
    "plt.figure(figsize=(12, 8))\n",
    "plt.plot(full_x, f2(full_x[:, None]), '--', alpha=0.5, label='true function')\n",
    "plt.plot(x, f2(x) + noise, 'xk', markersize='12', label='observations')\n",
    "plt.legend()\n",
    "maybe_save_plot('2018-01-08-linear-sample-example')  # linear function with x's marking samples\n",
    "plt.show()"
   ]
  },
  {
   "cell_type": "markdown",
   "metadata": {},
   "source": [
    "\n",
    "The light blue line shows the true function. The black x's mark the sample observations.\n",
    "\n",
    "\n",
    "## Other functions\n",
    "\n",
    "The image at the top of this post is of observations I generated for a Gaussian Process demo.\n",
    "\n",
    "Gaussian Processes are cool because they can fit a lot of functions. So I made and plotted\n",
    "a funnier function that can show off Gaussian Processes.\n",
    "I do it by using a linear combination of logistic sigmoids."
   ]
  },
  {
   "cell_type": "code",
   "execution_count": 10,
   "metadata": {},
   "outputs": [],
   "source": [
    "# I just use regular Python for this. I'm still learning numpy tricks :)\n",
    "# This is holding some params I'll use, including the coefficient of the whole\n",
    "# logistic sigmoid, and the weight and bias used within it.\n",
    "f_params = [\n",
    "    (-2, 5, -2),\n",
    "    (-2, 2, 0),\n",
    "    (3, 10, 1),\n",
    "]\n",
    "\n",
    "# Logistic sigmoid\n",
    "def sig(x, w, b):\n",
    "    return 1 / (1 + np.exp(-(w * x + b)))\n",
    "\n",
    "# Linearly combine logistic sigmoids\n",
    "def f3(x): return np.sum(\n",
    "    ((c * sig(x, w, b)) for (c, w, b) in f_params)\n",
    ")\n",
    "\n",
    "# Like before, grab some uniformly distributed input locations\n",
    "x = 2 * np.random.rand(11, 1) - 1\n",
    "\n",
    "# Run the function and add noise\n",
    "true_sigma_y = 0.01\n",
    "noise = true_sigma_y * np.random.randn(x.shape[0], 1)\n",
    "y = f3(x) + noise"
   ]
  },
  {
   "cell_type": "code",
   "execution_count": 11,
   "metadata": {},
   "outputs": [
    {
     "data": {
      "image/png": "[encoded data removed]",
      "text/plain": [
       "<matplotlib.figure.Figure at 0x10f97f208>"
      ]
     },
     "metadata": {},
     "output_type": "display_data"
    }
   ],
   "source": [
    "# For plotting the full function\n",
    "full_x = np.linspace(-1, 1, 100)[:, None]\n",
    "\n",
    "plt.figure(figsize=(12, 8))\n",
    "plt.plot(full_x, f3(full_x), '--', alpha=0.5, label='true function')\n",
    "plt.plot(x, y, 'xk', markersize='12', label='observations')\n",
    "plt.legend()\n",
    "maybe_save_plot('2018-01-08-sigmoid')\n",
    "plt.show()"
   ]
  },
  {
   "cell_type": "markdown",
   "metadata": {},
   "source": [
    "\n",
    "### [Next](2018-01-10-bayesian-linreg-plots.ipynb)\n",
    "\n",
    "## See Also\n",
    "\n",
    " - Thanks to all of the code examples in [MLPR](http://www.inf.ed.ac.uk/teaching/courses/mlpr/2017/notes/)\n",
    " - Section 2.1 of [An Introduction to Statistical Learning](http://www-bcf.usc.edu/~gareth/ISL/) talks about the function and error.\n"
   ]
  },
  {
   "cell_type": "code",
   "execution_count": null,
   "metadata": {},
   "outputs": [],
   "source": []
  }
 ],
 "metadata": {
  "kernelspec": {
   "display_name": "Python 3",
   "language": "python",
   "name": "python3"
  },
  "language_info": {
   "codemirror_mode": {
    "name": "ipython",
    "version": 3
   },
   "file_extension": ".py",
   "mimetype": "text/x-python",
   "name": "python",
   "nbconvert_exporter": "python",
   "pygments_lexer": "ipython3",
   "version": "3.6.1"
  }
 },
 "nbformat": 4,
 "nbformat_minor": 2
}
