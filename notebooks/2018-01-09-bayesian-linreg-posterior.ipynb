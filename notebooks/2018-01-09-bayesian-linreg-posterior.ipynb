{
 "cells": [
  {
   "cell_type": "markdown",
   "metadata": {},
   "source": [
    "# Bayesian Linear Regression part 3: Posterior\n",
    "\n",
    "\n",
    "Now I have [priors on the weights]({% post_url 2018-01-03-bayesian-linreg %}) and [observations]({% post_url 2018-01-08-bayesian-linreg-sample %}). In this post, I'll show a formula for finding the posterior on the weights, and show one plot using it. The [next post]({% post_url 2018-01-10-bayesian-linreg-plots %}) will have more plots.\n",
    "\n",
    "My goal is to find the distribution of the weights given the data. This is given by\n",
    "\n",
    "$$p(\\mathbf w | \\mathcal D) = \\frac{p(\\mathcal D | \\mathbf w)p(\\mathbf w)}{p(\\mathcal D)}.$$\n",
    "\n",
    "Since I'm assuming the prior is Gaussian and likelihood is a combination of Gaussians, the posterior will also be Gaussian. That means there is a [closed form expression](https://en.wikipedia.org/wiki/Conjugate_prior)\n",
    "for the mean and covariance of the posterior. Skipping ahead, I can use the equations from [\"Computing the Posterior\" in the class notes](http://www.inf.ed.ac.uk/teaching/courses/mlpr/2017/notes/w6c_bayesian_regression.html#computing-the-posterior):\n",
    "\n",
    "$$\\begin{aligned}\n",
    "    V_N &= \\sigma_y^2(\\sigma_y^2V_0^{-1} + \\Phi^\\top \\Phi)^{-1}\\\\\n",
    "    \\textbf w_N &= V_N V_0^{-1}\\textbf w_0 + \\frac{1}{\\sigma_y^2}V_N \\Phi^\\top\\textbf y.\n",
    "\\end{aligned}$$\n",
    "\n",
    "## Code\n",
    "\n",
    "I'll convert this to code. Heads up, I know this isn't the most efficient way to do this. I'll try to update this when I find more tricks.\n"
   ]
  },
  {
   "cell_type": "code",
   "execution_count": 1,
   "metadata": {},
   "outputs": [],
   "source": [
    "# imports!\n",
    "import numpy as np\n",
    "import matplotlib.pyplot as plt\n",
    "\n",
    "# helper functions you can skip over :D\n",
    "SAVE = True\n",
    "def maybe_save_plot(filename):\n",
    "    if SAVE:\n",
    "        plt.tight_layout()\n",
    "        plt.savefig('images/' + filename, bbox_inches=\"tight\")"
   ]
  },
  {
   "cell_type": "markdown",
   "metadata": {},
   "source": [
    "### Variables\n",
    "\n",
    "\\\\( w_0 \\\\) and \\\\( V_0 \\\\) are the prior's mean and variance, which I defined back in [priors on the weights](2018-01-03-bayesian-linreg.ipynb). The code for that was"
   ]
  },
  {
   "cell_type": "code",
   "execution_count": 2,
   "metadata": {},
   "outputs": [],
   "source": [
    "mu_w = 0\n",
    "mu_b = 0\n",
    "\n",
    "sigma_w = 0.2\n",
    "sigma_b = 0.2\n",
    "\n",
    "w_0 = np.hstack([mu_b, mu_w])\n",
    "V_0 = np.diag([sigma_b, sigma_w])**2"
   ]
  },
  {
   "cell_type": "markdown",
   "metadata": {},
   "source": [
    "\\\\(V_0^{-1}\\\\) is the inverse of the prior's variance. It shows up a few times, so I'll\n",
    "compute it once. It doesn't look like I can use `np.linalg.solve` on it, so I'll use\n",
    "`np.linalg.inv`:"
   ]
  },
  {
   "cell_type": "code",
   "execution_count": 3,
   "metadata": {},
   "outputs": [],
   "source": [
    "V0_inv = np.linalg.inv(V_0)"
   ]
  },
  {
   "cell_type": "markdown",
   "metadata": {},
   "source": [
    "\\\\(\\Phi\\\\) is the augmented input matrix. In this case, it's the `x` values of the [observations](2018-01-08-bayesian-linreg-sample.ipynb), with the column of 1s I add to deal with the bias term. So, from [the last post](2018-01-08-bayesian-linreg-sample.ipynb), I had `x` as"
   ]
  },
  {
   "cell_type": "code",
   "execution_count": 4,
   "metadata": {},
   "outputs": [],
   "source": [
    "X_in = 2 * np.random.rand(21, 1) - 1"
   ]
  },
  {
   "cell_type": "markdown",
   "metadata": {},
   "source": [
    "\n",
    "Then \\\\(\\Phi\\\\) is\n"
   ]
  },
  {
   "cell_type": "code",
   "execution_count": 5,
   "metadata": {},
   "outputs": [],
   "source": [
    "Phi_X_in = np.hstack((\n",
    "    np.ones((X_in.shape[0], 1)),  # pad with 1s for the bias term\n",
    "    X_in\n",
    "))"
   ]
  },
  {
   "cell_type": "markdown",
   "metadata": {},
   "source": [
    "\\\\(\\textbf y\\\\) is also from [the last post]({% post_url 2018-01-08-bayesian-linreg-sample %}). It's the vector containing all the observations.\n",
    " The code used there was"
   ]
  },
  {
   "cell_type": "code",
   "execution_count": 6,
   "metadata": {},
   "outputs": [],
   "source": [
    "true_w = np.array([[2, 0.3]]).T\n",
    "\n",
    "def f(x):\n",
    "    x_bias = np.hstack((\n",
    "        np.ones((x.shape[0], 1)),  # pad with 1s for the bias term\n",
    "        x\n",
    "    ))\n",
    "\n",
    "    return x_bias @ true_w\n",
    "\n",
    "true_sigma_y = 0.1\n",
    "noise = true_sigma_y * np.random.randn(X_in.shape[0], 1)\n",
    "\n",
    "y = f(X_in) + noise"
   ]
  },
  {
   "cell_type": "markdown",
   "metadata": {},
   "source": [
    "\n",
    "But since I already have \\\\(\\Phi\\\\), I'll skip the function and just use"
   ]
  },
  {
   "cell_type": "code",
   "execution_count": 7,
   "metadata": {},
   "outputs": [],
   "source": [
    "y = Phi_X_in @ true_w + noise"
   ]
  },
  {
   "cell_type": "markdown",
   "metadata": {},
   "source": [
    "\n",
    "\\\\(\\sigma_y\\\\) is my guess of `true_sigma_y`. On a real dataset, I might not know the true \\\\(\\sigma_y\\\\), so I keep separate `true_sigma_y` and `sigma_y` constants that I can use to explore what happens if my guess is off. I'll start with imagining I know it"
   ]
  },
  {
   "cell_type": "code",
   "execution_count": 8,
   "metadata": {},
   "outputs": [],
   "source": [
    "sigma_y = true_sigma_y"
   ]
  },
  {
   "cell_type": "markdown",
   "metadata": {},
   "source": [
    "\n",
    "The rest is a matter of copying the equation over correctly and hoping I got it right!"
   ]
  },
  {
   "cell_type": "code",
   "execution_count": 9,
   "metadata": {},
   "outputs": [],
   "source": [
    "V_n = sigma_y**2 * np.linalg.inv(sigma_y**2 * V0_inv + (Phi_X_in.T @ Phi_X_in))\n",
    "w_n = V_n @ V0_inv @ w_0 + 1 / (sigma_y**2) * V_n @ Phi_X_in.T @ y"
   ]
  },
  {
   "cell_type": "markdown",
   "metadata": {},
   "source": [
    "### Complete code\n",
    "\n",
    "Putting it all together, I get"
   ]
  },
  {
   "cell_type": "code",
   "execution_count": 10,
   "metadata": {},
   "outputs": [],
   "source": [
    "# Set up the prior\n",
    "mu_w = 0\n",
    "mu_b = 0\n",
    "\n",
    "sigma_w = 0.2\n",
    "sigma_b = 0.2\n",
    "\n",
    "w_0 = np.hstack([mu_b, mu_w])[:, None]\n",
    "V_0 = np.diag([sigma_b, sigma_w])**2\n",
    "\n",
    "# Get observations\n",
    "true_sigma_y = 0.1\n",
    "true_w = np.array([[2, 0.3]]).T\n",
    "\n",
    "X_in = 2 * np.random.rand(11, 1) - 1\n",
    "\n",
    "Phi_X_in = np.hstack((\n",
    "    np.ones((X_in.shape[0], 1)),  # pad with 1s for the bias term\n",
    "    X_in\n",
    "))\n",
    "\n",
    "true_sigma_y = 0.05\n",
    "noise = true_sigma_y * np.random.randn(X_in.shape[0], 1)\n",
    "\n",
    "y = Phi_X_in @ true_w + noise\n",
    "\n",
    "# Compute the posterior\n",
    "sigma_y = true_sigma_y  # I'm going to guess the noise correctly\n",
    "\n",
    "V0_inv = np.linalg.inv(V_0)\n",
    "V_n = sigma_y**2 * np.linalg.inv(sigma_y**2 * V0_inv + (Phi_X_in.T @ Phi_X_in))\n",
    "w_n = V_n @ V0_inv @ w_0 + 1 / (sigma_y**2) * V_n @ Phi_X_in.T @ y"
   ]
  },
  {
   "cell_type": "markdown",
   "metadata": {},
   "source": [
    "Sweet! Now it seems like after doing all that code and math, I should be rewarded with pretty graphs!\n",
    "\n",
    "## Plotting\n",
    "\n",
    "In this post, I'll just show one graph. `w_n` is the mean guess of the weights, so I can plot that function. I can also compare it to the weights from\n",
    "least squares and the true weights."
   ]
  },
  {
   "cell_type": "code",
   "execution_count": 11,
   "metadata": {},
   "outputs": [
    {
     "data": {
      "text/plain": [
       "<matplotlib.figure.Figure at 0x10f7007b8>"
      ]
     },
     "metadata": {},
     "output_type": "display_data"
    },
    {
     "data": {
      "image/png": "[encoded data removed]",
      "text/plain": [
       "<matplotlib.figure.Figure at 0x10f700be0>"
      ]
     },
     "metadata": {},
     "output_type": "display_data"
    }
   ],
   "source": [
    "grid_size = 0.01\n",
    "x_grid = np.arange(-1, 1, grid_size)[:, None]\n",
    "\n",
    "Phi_X = np.hstack((\n",
    "    np.ones((x_grid.shape[0], 1)),  # pad with 1s for the bias term\n",
    "    x_grid\n",
    "))\n",
    "\n",
    "lsqsq_w = np.linalg.lstsq(Phi_X_in, y)[0]\n",
    "\n",
    "plt.clf()\n",
    "plt.figure(figsize=(8, 6))\n",
    "plt.plot(X_in, y, 'xk', label='observations')\n",
    "plt.plot(x_grid, Phi_X @ true_w, '--b', alpha=0.5, label='true weights')\n",
    "plt.plot(x_grid, Phi_X @ w_n, label='Bayesian')\n",
    "plt.plot(x_grid, Phi_X @ lsqsq_w, label='lstsq')\n",
    "plt.legend()\n",
    "plt.ylim([1.5, 2.5])\n",
    "maybe_save_plot('2018-01-09-mean')  # Graph showing three lines, all near each other, going through the points.\n",
    "plt.show()"
   ]
  },
  {
   "cell_type": "markdown",
   "metadata": {},
   "source": [
    "\n",
    "These are pretty similar! They are different at least in part due to the prior, which are centered at 0, meaning that it expects most lines to go through the origin and have a slope of 0.\n",
    "\n",
    "This is more obvious if I make the true bias is very far away from 0. Then the Bayesian fit might not even go through the points! This might remind you of the effects of regularization, which makes extreme values less likely, at the cost of sometimes having poorer fits."
   ]
  },
  {
   "cell_type": "code",
   "execution_count": 12,
   "metadata": {},
   "outputs": [],
   "source": [
    "true_w = np.array([[100, 0.3]]).T"
   ]
  },
  {
   "cell_type": "markdown",
   "metadata": {},
   "source": [
    "![Graph showing three lines, two near each other going through the points, and one closer to 0.](images/2018-01-09-mean-far-away.png)\n",
    "\n",
    "\n",
    "### [Next](2018-01-10-bayesian-linreg-plots.ipynb)\n",
    "\n",
    "## See Also\n",
    "\n",
    " - Still thanks to [MLPR](http://www.inf.ed.ac.uk/teaching/courses/mlpr/2017/notes/)!\n",
    " - Wikipedia on [Conjugate Priors](https://en.wikipedia.org/wiki/Conjugate_prior)\n"
   ]
  },
  {
   "cell_type": "code",
   "execution_count": null,
   "metadata": {},
   "outputs": [],
   "source": []
  }
 ],
 "metadata": {
  "kernelspec": {
   "display_name": "Python 3",
   "language": "python",
   "name": "python3"
  },
  "language_info": {
   "codemirror_mode": {
    "name": "ipython",
    "version": 3
   },
   "file_extension": ".py",
   "mimetype": "text/x-python",
   "name": "python",
   "nbconvert_exporter": "python",
   "pygments_lexer": "ipython3",
   "version": "3.6.1"
  }
 },
 "nbformat": 4,
 "nbformat_minor": 2
}
