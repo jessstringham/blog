{
 "cells": [
  {
   "cell_type": "markdown",
   "metadata": {},
   "source": [
    "# Inference in discrete state Hidden Markov Models using numpy\n",
    "\n",
    "This demo shows exact inference on a Hidden Markov Model with known, discrete transition and emission distributions that are fixed over time. It does alpha recursion, which is a sum-product algorithm on HMMs.\n",
    "\n",
    "The problem is taken from Example 23.3 from [\"Bayesian Reasoning and Machine Learning\"](http://www.cs.ucl.ac.uk/staff/d.barber/brml/), and this is more or less a port of the provided Matlab implementation with my commentary.\n",
    "\n",
    "I'm trying to understand how my probabilistic graphical modelling class can be represented in code, so I try to go through this painfully slow and show how the `numpy` arrays map to the discrete probability distributions.\n",
    "\n",
    "## Problem\n",
    "\n",
    "The idea is that there's someone moving around a room. You can't see them, but you can hear bumps and creaks from them moving around. You know the probability of someone bumping or creaking at each location in the room. You also know how one moves around the room.\n",
    "Using the sequence of bumps and/or creaks, the goal is to figure out the locations in the room.\n",
    "\n",
    "Below is what I will end up with:\n",
    "\n",
    "![Three sets of 10 images, second row showing a dot moving around a grid, third row showing highlighted area where model thinks the dot is](images/2018-05-02-filtering.png)\n",
    "\n",
    "The first row represents the bumps/creaks you hear. The second row represents where the person actually is. The third row represents where alpha recursion guesses the person is.\n",
    "\n",
    "### HMMs\n",
    "\n",
    "![HMM diagram](images/2018-05-02-hmm.png)\n",
    "\n",
    "This problem can be modeled using a Hidden Markov Model. At each timestep $t$ in the sequence, there's the visible state $v_t$ (the bump/creak combination) and the hidden state $h_t$ (the location in the room.)\n",
    "\n",
    "The goal of *filtering* is to show the probability distribution over the locations in the room at a given timestep $t$ given the bumps/creaks from the current and previous timesteps, $p(h_t\\mid v_{1:t})$. Plotting this distribution at each timestep gives a heatmap of where in the room we think the person is. \n",
    "\n",
    "In this model, there is a transition distribution $p(h_t \\mid h_{t - 1})$ to show that each hidden state depends on the previous timestep's hidden state. There also is the emission distribution $p(v_t \\mid h_t)$ to show each visible state depends on the corresponding hidden state. There's also the probability of where in the room the person starts, $p(h_1)$.\n",
    "\n",
    "The rest of the notebook shows:\n",
    " - Setting up the known distributions $p(h_1)$, $p(h_t \\mid h_{t - 1})$, and $p(v_t \\mid h_t)$. This is a lot of the notebook!\n",
    " - Generating some data for the locations ($h_{1:t}$) and sounds ($v_{1:t}$) from that distribution.\n",
    " - Finally I get to alpha recursion. I try to predict $h_{1:t}$ based on $v_{1:t}$, $p(h_1)$, $p(h_t \\mid h_{t - 1})$, and $p(v_t \\mid h_t)$."
   ]
  },
  {
   "cell_type": "code",
   "execution_count": 1,
   "metadata": {
    "collapsed": true
   },
   "outputs": [],
   "source": [
    "import numpy as np\n",
    "import matplotlib.pyplot as plt"
   ]
  },
  {
   "cell_type": "code",
   "execution_count": 2,
   "metadata": {
    "collapsed": true
   },
   "outputs": [],
   "source": [
    "# helper functions you can skip over :D\n",
    "SAVE = False\n",
    "def maybe_save_plot(filename):\n",
    "    if SAVE:\n",
    "        plt.tight_layout()\n",
    "        plt.savefig('images/' + filename, bbox_inches=\"tight\")\n",
    "\n",
    "def hide_ticks(plot):\n",
    "    plot.axes.get_xaxis().set_visible(False)\n",
    "    plot.axes.get_yaxis().set_visible(False)"
   ]
  },
  {
   "cell_type": "markdown",
   "metadata": {},
   "source": [
    "## Distributions\n",
    "\n",
    "Before anything, I'll set up the room. I want a $6 \\times 5$* room with a total of 30 possible locations. \n",
    "\n",
    "In HMM, this means there are 30 hidden states, and at each timestep $t$, $h_t \\in \\{0,...,29 \\}$. Heads up, I'm using index-at-1 notation for the variables to match the book's notation and index-at-0 for states and code.\n",
    "\n",
    "In `numpy`, I'll set a `width` and `height` for the room and `num_hidden_states` as the total possible locations in the room. While I'm here, I'll set up `map_x_y_to_hidden_state_id` as a convenient way to map from an `x` and `y` coordinate to the index of the state. \n",
    "\n",
    "*The original example used a $5\\times5$ room, but I didn't want to accidentally transpose my math, so I made it a rectangular room instead."
   ]
  },
  {
   "cell_type": "code",
   "execution_count": 3,
   "metadata": {},
   "outputs": [
    {
     "data": {
      "image/png": "[encoded data removed]",
      "text/plain": [
       "<matplotlib.figure.Figure at 0x109067470>"
      ]
     },
     "metadata": {},
     "output_type": "display_data"
    }
   ],
   "source": [
    "width = 6\n",
    "height = 5\n",
    "num_hidden_states = width * height\n",
    "\n",
    "map_x_y_to_hidden_state_id = np.arange(num_hidden_states).reshape(height, width).T\n",
    "\n",
    "fig, ax = plt.subplots(figsize=(3, 5))\n",
    "ax.axis('off')\n",
    "for x in range(width):\n",
    "    for y in range(height):\n",
    "        ax.text(x / 3, y / 5 + .1, str(map_x_y_to_hidden_state_id[x][y]), fontsize='16')\n",
    "\n",
    "maybe_save_plot('2018-05-02-room-coordinates')\n",
    "plt.show()"
   ]
  },
  {
   "cell_type": "markdown",
   "metadata": {},
   "source": [
    "### Initial distribution (starting location) $p(h_1)$\n",
    "\n",
    "The initial distribution $p(h_1)$ gives the probability over the hidden states at the first timestep.\n",
    "\n",
    "In this case, it's the probability over locations in the room where the person is at the first timestep. The Barber book uses a uniform distribution for this problem. This means at the first timestep, they could be anywhere in the room.\n",
    "\n",
    "To represent $p(h_1)$ as a `numpy` array `p_hidden_start`:\n",
    " - The distribution is uniform, so all values in the array should be the same.\n",
    " - The distribution's domain is the possible hidden states, so the array should have the same size `(30,)`.*\n",
    " - The array represents a probability distribution so it should sum to 1 and each value should be greater than or equal to 0.\n",
    " \n",
    "*Technically this distribution can be specified with only 29 values because it has to sum to 1. But I'm not going to worry about that here."
   ]
  },
  {
   "cell_type": "code",
   "execution_count": 4,
   "metadata": {
    "collapsed": true
   },
   "outputs": [],
   "source": [
    "# prob of starting starting locations\n",
    "p_hidden_start = np.ones(num_hidden_states) / num_hidden_states\n",
    "\n",
    "# verify it's a valid probability distribution\n",
    "assert np.all(np.isclose(np.sum(p_hidden_start), 1))\n",
    "assert np.all(p_hidden_start >= 0)"
   ]
  },
  {
   "cell_type": "markdown",
   "metadata": {},
   "source": [
    "### Transition (moving around the room) $p(h_t \\mid h_{t-1})$\n",
    "\n",
    "Given the previous location, the transition distribution $p(h_t \\mid h_{t-1})$ gives the probability of moving to a new location. \n",
    "\n",
    "For this problem, the person can only move up, down, left, or right and they can't stand still. This can be encoded in a probability distribution, which is cool! I'll set the value to 0 when it's an illegal move and otherwise evenly distribute it among the legal moves.\n",
    "\n",
    "Using this I can define $p(h_t, h_{t - 1})$, which I can use to find $p(h_t \\mid h_{t-1})$. Translating to `numpy`:\n",
    " - This distribution defines probabilities for every combination of two hidden states, so it will have $30 \\times 30$ values*. To make things easier when I compute $p(h_t \\mid h_{t - 1})$, I'll use a `(30, 30)` array. I'll have `p_transition_joint[new_state][old_state]` as the probability $p(h_t=\\texttt{new_state}, h_{t - 1}=\\texttt{old_state})$.\n",
    " - It's a joint probability, so summing over the entire 2D array should give 1 and every value should be greater than or equal to 0.\n",
    "\n",
    "*Like with $p(h_1)$, technically this can be specified with $30 \\times 30 - 1$ values, because the entire table sums to 1. And like before, I'm not going to worry about that in code."
   ]
  },
  {
   "cell_type": "code",
   "execution_count": 5,
   "metadata": {
    "collapsed": true
   },
   "outputs": [],
   "source": [
    "# begin by building an unnormalized matrix with 1s for all legal moves.\n",
    "unnormalized_transition_joint = np.zeros((num_hidden_states, num_hidden_states))\n",
    "\n",
    "for x in range(width):\n",
    "    for y in range(height):\n",
    "        h_t = map_x_y_to_hidden_state_id[x, y]\n",
    "\n",
    "        # hax to go through each possible direction\n",
    "        for d in range(4):\n",
    "            new_x = x\n",
    "            new_y = y\n",
    "            if d // 2 == 0:\n",
    "                # move left or right!\n",
    "                new_x = x + ((d % 2) * 2 - 1)\n",
    "            else:\n",
    "                # move up or down!\n",
    "                new_y = y + ((d % 2) * 2 - 1)\n",
    "\n",
    "            # make sure they don't walk through walls\n",
    "            if any((\n",
    "                new_x > width - 1,\n",
    "                new_x < 0,\n",
    "                new_y > height - 1,\n",
    "                new_y < 0\n",
    "            )):\n",
    "                continue\n",
    "\n",
    "            h_t_minus_1 = map_x_y_to_hidden_state_id[new_x, new_y]\n",
    "            unnormalized_transition_joint[h_t_minus_1][h_t] = 1\n",
    "\n",
    "# normalize!\n",
    "p_transition_joint = unnormalized_transition_joint / np.sum(unnormalized_transition_joint)\n",
    "\n",
    "# make sure this is a joint probability\n",
    "assert np.isclose(np.sum(p_transition_joint), 1)\n",
    "# not super necessary, but eh\n",
    "assert np.all(p_transition_joint >= 0)"
   ]
  },
  {
   "cell_type": "markdown",
   "metadata": {},
   "source": [
    "#### Computing $p(h_t \\mid h_{t - 1})$ in math\n",
    "\n",
    "Now I have $p(h_t, h_{t - 1})$. To get the transition distribution $p(h_t \\mid h_{t - 1})$, from this, I need\n",
    "\n",
    "\\begin{align}\n",
    "p(h_t \\mid h_{t - 1}) &= \\frac{p(h_t, h_{t - 1})}{p(h_{t - 1})} \\\\\n",
    " &= \\frac{p(h_t, h_{t - 1})}{\\sum_{h_t} p(h_t, h_{t - 1})}.\n",
    "\\end{align}\n",
    "\n",
    "\n",
    "Translating to `numpy`:\n",
    " - The distribution maps from a hidden state to another hidden state, so it should be of size `(30, 30)` to represent each possible transition. The way Barber does it is by having a 2D array, where the first axis is the `new_state` $h_t$ and the second is the `old_state` $h_{t-1}$.*\n",
    " - The distribution is a conditional probability distribution, so given a value for $h_{t-1}$, the values for $h_t$ should sum to 1.\n",
    " \n",
    "*One more time because I need to know this for my exam next week! Technically this can be specified with $30 \\times (30 - 1)$ values because each of the 30 columns sums to 1. And like before I'm not going to worry about that in code. \n",
    "\n",
    "#### Computing $p(h_t \\mid h_{t - 1})$ in `numpy`\n",
    "\n",
    "The element `p_transition_joint[new_state][old_state]` is the probability \n",
    "\n",
    "$$p(h_t=\\texttt{new_state}, h_{t - 1}=\\texttt{old_state}).$$\n",
    "\n",
    "The column `p_transition_joint[:, old_state]` s the 30-element vector representing the unnormalized distribution $\\tilde{p}(h_t , h_{t - 1} = \\texttt{old_state})$. If I marginalize over all possible values of $h_t$, I end up with \n",
    "\n",
    "$$\\sum_{h_t} p(h_t, h_{t - 1}=\\texttt{old_state}) = p(h_{t - 1} = \\texttt{old_state}).$$\n",
    "\n",
    "This is like summing over the rows or columns of a probability table to get the marginal.\n",
    "\n",
    "| `p(x, y)` | `x = 0` | `x = 1` | `p(y)` |\n",
    "|--|--|--|--|\n",
    "| `y = 0` | 0.4 | 0.2 | **0.6** |\n",
    "| `y = 1` | 0.3 | 0.1 | **0.4** |\n",
    "| `p(x)` | **0.7** | **0.3** | |\n",
    "\n",
    "I'll build $p(h_t \\mid h_{t - 1})$ column-wise. Each column will be the normalized distribution ${p}(h_t \\mid h_{t - 1} = \\texttt{old_state})$.\n",
    " For each `old_state` I'll compute $p(h_t \\mid h_{t - 1}=\\texttt{old_state})$ as follows:\n",
    " - Sum over the column `old_state` in `p_transition_joint`. By doing this, I'm summing over $h_t$. This gives $p(h_{t - 1}=\\texttt{old_state}) = \\sum_{h_t} p(h_t, h_{t - 1}=\\texttt{old_state})$.\n",
    " - Divide the column `old_state` in `p_transition_joint` which represents $p(h_t, h_{t - 1}=\\texttt{old_state})$ by that sum $p(h_{t - 1}=\\texttt{old_state})$. That gives $p(h_t \\mid h_{t - 1}=\\texttt{old_state})$."
   ]
  },
  {
   "cell_type": "code",
   "execution_count": 6,
   "metadata": {
    "collapsed": true
   },
   "outputs": [],
   "source": [
    "p_transition = np.zeros((num_hidden_states, num_hidden_states))\n",
    "\n",
    "for old_state in range(num_hidden_states):\n",
    "    p_transition[:, old_state] = p_transition_joint[:, old_state] / np.sum(p_transition_joint[:, old_state])\n",
    "\n",
    "# verify it's a conditional distribution\n",
    "assert np.all(np.sum(p_transition, axis=0)) == 1"
   ]
  },
  {
   "cell_type": "markdown",
   "metadata": {},
   "source": [
    "#### Visualizing\n",
    "\n",
    "This one is weird to visualize but it makes a fun pattern."
   ]
  },
  {
   "cell_type": "code",
   "execution_count": 7,
   "metadata": {},
   "outputs": [
    {
     "data": {
      "image/png": "[encoded data removed]",
      "text/plain": [
       "<matplotlib.figure.Figure at 0x109048978>"
      ]
     },
     "metadata": {},
     "output_type": "display_data"
    }
   ],
   "source": [
    "fig, ax = plt.subplots()\n",
    "ax.imshow(p_transition)\n",
    "ax.set_title('p(new_state | old_state)')\n",
    "hide_ticks(ax)\n",
    "maybe_save_plot('2018-05-02-transition')\n",
    "plt.show()"
   ]
  },
  {
   "cell_type": "markdown",
   "metadata": {},
   "source": [
    "#### Sample paths\n",
    "\n",
    "I can also generate a few path examples to see if they look right. Later, after I have the emission distribution, I can use this code to help generate the visibles.\n",
    "\n",
    "The `np.random.choice` comes in handy a few times. The `p` argument allows me to specify a list of probabilities for each state. I use it to sample from the `p_hidden_start` distribution and the `p_transition` distribution for a given hidden state."
   ]
  },
  {
   "cell_type": "code",
   "execution_count": 8,
   "metadata": {},
   "outputs": [
    {
     "data": {
      "image/png": "[encoded data removed]",
      "text/plain": [
       "<matplotlib.figure.Figure at 0x109048748>"
      ]
     },
     "metadata": {},
     "output_type": "display_data"
    }
   ],
   "source": [
    "timesteps = 10\n",
    "example_count = 5\n",
    "\n",
    "\n",
    "figs, all_axs = plt.subplots(example_count, timesteps, figsize=(timesteps, 1.5 * example_count))\n",
    "\n",
    "\n",
    "def plot_state_in_room(state_id):\n",
    "    h = np.zeros(num_hidden_states)\n",
    "    h[state_id] = 1\n",
    "    return h.reshape(height, width)\n",
    "\n",
    "\n",
    "for ex_i in range(example_count):\n",
    "    # choose the starting state using `p_hidden_start`\n",
    "    curr_hidden_state = np.random.choice(num_hidden_states, p=p_hidden_start)\n",
    "    \n",
    "    # plot it\n",
    "    all_axs[ex_i][0].imshow(plot_state_in_room(curr_hidden_state), cmap='gray')\n",
    "    hide_ticks(all_axs[ex_i][0])\n",
    "\n",
    "    for t in range(1, timesteps):\n",
    "        # use the transition matrix to get the probability distribution of the\n",
    "        # next state given the current one\n",
    "        curr_hidden_state = np.random.choice(\n",
    "            num_hidden_states,\n",
    "            p=p_transition[:, curr_hidden_state]\n",
    "        )\n",
    "        \n",
    "        all_axs[ex_i][t].imshow(plot_state_in_room(curr_hidden_state), cmap='gray')\n",
    "        hide_ticks(all_axs[ex_i][t])\n",
    "maybe_save_plot('2018-05-02-sample-paths')\n",
    "plt.show()"
   ]
  },
  {
   "cell_type": "markdown",
   "metadata": {},
   "source": [
    "### Emission distribution (bumps and creaks) $p(v_t \\mid h_t)$\n",
    "\n",
    "Now I need the emission distribution $p(v_t \\mid h_t)$, which is the probability of a visible state given the hidden state.\n",
    "\n",
    "In this problem, this distribution is the combination of the probability of a bump given the location, and the probability of a creak given the location. \n",
    "\n",
    "$$p(v_t \\mid h_t) = p(v_t^{bump} \\mid h_t)p(v_t^{creak} \\mid h_t)$$\n",
    "\n",
    "Both of these have two states, so combining the two gives 4 visible states for $v_t$:\n",
    " - bump and creak\n",
    " - bump and no creak\n",
    " - no bump and creak\n",
    " - no bump and no creak"
   ]
  },
  {
   "cell_type": "markdown",
   "metadata": {},
   "source": [
    "#### Bumps and Creaks map, $p(v^{bump}=True \\mid h_t)$\n",
    "\n",
    "First I'll set up the bumpy and creaky aspects of the room. For example, `prob_bump_true_given_location` gives the probability distribution\n",
    "\n",
    "$$p(v^{bump}=True \\mid h_t)$$\n",
    "\n",
    " - There are `num_hidden_states = 30` values for $h_t$, so I need 2 sets of 30 probabilities. \n",
    " - This isn't a probability distribution. They just need to be between 0 and 1.\n",
    "\n",
    "I try to implement this in a similar way to Barber. Ten random spots in the room have a higher probability, and the rest has a low probability. This introduces some noise to the problem.\n",
    "Here I use `np.random.choice` in a new way. In this case, I'm using it to select 10 spots to have a high probability of making a noise."
   ]
  },
  {
   "cell_type": "code",
   "execution_count": 9,
   "metadata": {
    "collapsed": true
   },
   "outputs": [],
   "source": [
    "def make_sound_map():\n",
    "    NUM_SOUNDS = 10\n",
    "    LOW_PROB = 0.1\n",
    "    HIGH_PROB = 0.9\n",
    "\n",
    "    # everything has at least LOW_PROB of triggering the sound\n",
    "    grid = LOW_PROB * np.ones(num_hidden_states)\n",
    "    # select NUM_BUMP_CREAKS to make HIGH_PROB\n",
    "    locs = np.random.choice(\n",
    "        num_hidden_states, \n",
    "        size=NUM_SOUNDS, \n",
    "        replace=False\n",
    "    )\n",
    "    grid[locs] = HIGH_PROB\n",
    "    \n",
    "    return grid\n",
    "\n",
    "prob_bump_true_given_location = make_sound_map()\n",
    "prob_creak_true_given_location = make_sound_map()"
   ]
  },
  {
   "cell_type": "markdown",
   "metadata": {},
   "source": [
    "### Visualizing bumps and creaks\n",
    "\n",
    "Let's plot it!"
   ]
  },
  {
   "cell_type": "code",
   "execution_count": 10,
   "metadata": {},
   "outputs": [
    {
     "data": {
      "image/png": "[encoded data removed]",
      "text/plain": [
       "<matplotlib.figure.Figure at 0x109048b00>"
      ]
     },
     "metadata": {},
     "output_type": "display_data"
    }
   ],
   "source": [
    "fig, (bump, creak) = plt.subplots(1, 2)\n",
    "\n",
    "bump.imshow(prob_bump_true_given_location.reshape(height, width))\n",
    "bump.set_title('p(bump=True|h)')\n",
    "hide_ticks(bump)\n",
    "\n",
    "creak.imshow(prob_creak_true_given_location.reshape(height, width))\n",
    "creak.set_title('p(creak=True|h)')\n",
    "hide_ticks(creak)\n",
    "\n",
    "maybe_save_plot('2018-05-02-bumps-creaks')\n",
    "plt.show()"
   ]
  },
  {
   "cell_type": "markdown",
   "metadata": {},
   "source": [
    "#### Emission distribution $p(v \\mid h)$\n",
    "\n",
    "The goal is to define the distribution $p(v \\mid h)$. In `numpy`\n",
    " - The distribution gives probability of the 4 visible states given each of the 30 hidden states, so the array should be of size `(4, 30)`.\n",
    " - The distribution is conditional over the 4 states, so each column should add to 1.\n",
    "\n",
    "To get the emission distribution in math, I'd multiply \n",
    "\n",
    "$$p(v \\mid h) = p(v^{bump} \\mid h)p(v^{creak} \\mid h).$$\n",
    "\n",
    "It's a little more complicated in code. First to get $p(v^{bump} \\mid h_t)$,  I need to add a second state for $p(v^{bump}=False \\mid h_t) = 1 - p(v^{bump}=True \\mid h_t)$.\n",
    "But I also need to flatten out the visible states from 2 2-state visible variables to one 4-state visible variable. So like Barber, I'll define the four states' probabilities by hand. \n",
    "\n",
    "I also define a `map_visible_state_to_bump_creak` to map from the visible state to if there was a bump and/or creak."
   ]
  },
  {
   "cell_type": "code",
   "execution_count": 11,
   "metadata": {
    "collapsed": true
   },
   "outputs": [],
   "source": [
    "num_visible_states = 4\n",
    "\n",
    "# prob_bump_given_state[v][state] = p(v | state)\n",
    "p_emission = np.vstack((\n",
    "    prob_bump_true_given_location * prob_creak_true_given_location,\n",
    "    (1 - prob_bump_true_given_location) * prob_creak_true_given_location,\n",
    "    prob_bump_true_given_location * (1 - prob_creak_true_given_location),\n",
    "    (1 - prob_bump_true_given_location) * (1 - prob_creak_true_given_location),\n",
    "))\n",
    "\n",
    "assert np.all(np.sum(p_emission, axis=0)) == 1\n",
    "\n",
    "# 1 means True. ex: [1, 0] means bump=True, creak=False\n",
    "map_visible_state_to_bump_creak = np.vstack((\n",
    "    [1, 1],\n",
    "    [1, 0],\n",
    "    [0, 1],\n",
    "    [0, 0],\n",
    "))"
   ]
  },
  {
   "cell_type": "markdown",
   "metadata": {},
   "source": [
    "### Visualizing $p(\\textbf{v} \\mid h_t)$\n",
    "\n",
    "This one's a little tricker to visualize. I'll show it as four plots of the probability each visible state.\n",
    "\n",
    "When I do alpha recursion the data below, the result of filtering for the first timestep will be exactly the same as one of these maps."
   ]
  },
  {
   "cell_type": "code",
   "execution_count": 12,
   "metadata": {},
   "outputs": [
    {
     "data": {
      "image/png": "[encoded data removed]",
      "text/plain": [
       "<matplotlib.figure.Figure at 0x10f3536d8>"
      ]
     },
     "metadata": {},
     "output_type": "display_data"
    }
   ],
   "source": [
    "fig, axs = plt.subplots(2, 2)\n",
    "for ax, probs, (bump, creak) in zip(axs.flatten(), p_emission, map_visible_state_to_bump_creak):\n",
    "    ax.imshow(probs.reshape(height, width))\n",
    "    ax.set_title(\n",
    "        'p('\n",
    "        + ('' if bump else 'no ') + 'bump & '\n",
    "        + ('' if creak else 'no ') + 'creak)'\n",
    "    )\n",
    "    hide_ticks(ax)\n",
    "maybe_save_plot('2018-05-02-v-given-h')    \n",
    "plt.show()    "
   ]
  },
  {
   "cell_type": "markdown",
   "metadata": {},
   "source": [
    "## Generating data: $\\textbf{v}_{1:t}$\n",
    "\n",
    "Now I have all of the probabilities I need. On to part 2: generating some data!\n",
    "\n",
    "I'll do it for 10 timesteps."
   ]
  },
  {
   "cell_type": "code",
   "execution_count": 13,
   "metadata": {
    "collapsed": true
   },
   "outputs": [],
   "source": [
    "timesteps = 10\n",
    "\n",
    "hiddens = np.zeros(timesteps, dtype=int)\n",
    "visibles = np.zeros(timesteps, dtype=int)\n",
    "\n",
    "hiddens[0] = np.random.choice(num_hidden_states, p=p_hidden_start)\n",
    "visibles[0] = np.random.choice(\n",
    "    num_visible_states,\n",
    "    p=p_emission[:, hiddens[0]]\n",
    ")\n",
    "\n",
    "for t in range(1, timesteps):\n",
    "    hiddens[t] = np.random.choice(\n",
    "        num_hidden_states,\n",
    "        p=p_transition[:, hiddens[t - 1]]\n",
    "    )\n",
    "\n",
    "    visibles[t] = np.random.choice(\n",
    "        num_visible_states,\n",
    "        p=p_emission[:, hiddens[t]]\n",
    "    )"
   ]
  },
  {
   "cell_type": "markdown",
   "metadata": {},
   "source": [
    "### Visualizing\n",
    "\n",
    "Let's take a peak at where they were moving and what sounds they made.\n",
    "\n",
    "Visibles are plotted as a rectangle with two colors. The left is black if there was a bump and white if not. The right is black if there was a creak and white if not."
   ]
  },
  {
   "cell_type": "code",
   "execution_count": 14,
   "metadata": {},
   "outputs": [
    {
     "data": {
      "image/png": "[encoded data removed]",
      "text/plain": [
       "<matplotlib.figure.Figure at 0x10fb59320>"
      ]
     },
     "metadata": {},
     "output_type": "display_data"
    }
   ],
   "source": [
    "fig, all_axs = plt.subplots(2, timesteps, figsize=(16, 4))\n",
    "all_axs = all_axs.T\n",
    "\n",
    "VISIBLES = 0\n",
    "TRUE_STATES = 1\n",
    "\n",
    "all_axs[0][0].set_title('Visibles', x=-0.5, y=0.2)\n",
    "all_axs[0][1].set_title('Actual', x=-0.5, y=0.4)\n",
    "\n",
    "for i, (axs, hidden, visible) in enumerate(zip(all_axs, hiddens, visibles)):\n",
    "    axs[VISIBLES].imshow([map_visible_state_to_bump_creak[visible]], cmap='gray')\n",
    "    hide_ticks(axs[VISIBLES])    \n",
    "    \n",
    "    axs[TRUE_STATES].imshow(plot_state_in_room(hidden), cmap='gray')\n",
    "    hide_ticks(axs[TRUE_STATES])\n",
    "    \n",
    "maybe_save_plot('2018-05-02-v-over-time')\n",
    "plt.show()    "
   ]
  },
  {
   "cell_type": "markdown",
   "metadata": {},
   "source": [
    "## Filtering: $p(h_t \\mid v_{1:t})$\n",
    "\n",
    "Now for part 3: filtering using alpha recursion. Filtering finds the probability of the current hidden state given the visibles from all previous timesteps, as well as the transition, emission, and start probabilities.\n",
    "\n",
    "Taking from Barber, alpha recursion gives\n",
    "\n",
    "$$\\alpha(h_t) = p(h_t, v_{1:t}) \\propto p(h_t \\mid v_{1:t})$$\n",
    "\n",
    "The values of $\\alpha$ are computed with\n",
    "\n",
    "$$\\alpha(h_t) = p(v_t \\mid h_t) \\sum_{h_{t - 1}} p(h_t \\mid h_{t - 1})\\alpha(h_{t - 1})$$\n",
    "\n",
    "and\n",
    "\n",
    "$$\\alpha(h_1) = p(h_1, v_1) = p(v_1 \\mid h_1)p(h_1).$$\n",
    "\n",
    "In code I'll compute an $\\alpha$ for each timestep. I'll use these to give the distribution over all states for that timestep given the visibles up until that timestep. Because I want the filtered posterior, I can rescale, so like Barber's code, I'm normalizing each $\\alpha$."
   ]
  },
  {
   "cell_type": "code",
   "execution_count": 15,
   "metadata": {
    "collapsed": true
   },
   "outputs": [],
   "source": [
    "def alpha_recursion(visibles, p_hidden_start, p_transition, p_emission):\n",
    "    num_timestamps = visibles.shape[0]\n",
    "    num_hidden_states = p_transition.shape[0]\n",
    "    \n",
    "    # There will be one alpha for each timestamp \n",
    "    alphas = np.zeros((num_timestamps, num_hidden_states))\n",
    "\n",
    "    # alpha(h_1) = p(h_1) * p(v_1 | h_1)\n",
    "    alphas[0] = p_hidden_start * p_emission[visibles[0]]\n",
    "\n",
    "    # normalize to avoid overflow\n",
    "    alphas[0] /= np.sum(alphas[0])\n",
    "    for t in range(1, num_timestamps):\n",
    "        # p(v_s | h_s)\n",
    "        # size: new_states\n",
    "        corrector = p_emission[visibles[t]]\n",
    "        \n",
    "        # sum over all hidden states for the previous timestep and multiply the \n",
    "        # transition prob by the previous alpha\n",
    "        # transition_matrix size: new_state x old_state\n",
    "        # alphas[t_minus_1].T size: old_state x 1\n",
    "        # predictor size: new_state x 1,\n",
    "        predictor = p_transition @ alphas[t - 1, None].T\n",
    "\n",
    "        # alpha(h_s)\n",
    "        alphas[t, :] = corrector * predictor[:, 0]\n",
    "\n",
    "        # normalize\n",
    "        alphas[t] /= np.sum(alphas[t])\n",
    "\n",
    "    return alphas\n",
    "\n",
    "alphas = alpha_recursion(\n",
    "    visibles, \n",
    "    p_hidden_start,\n",
    "    p_transition,\n",
    "    p_emission,\n",
    ")\n",
    "\n",
    "assert np.all(np.isclose(np.sum(alphas, axis=1), 1))"
   ]
  },
  {
   "cell_type": "markdown",
   "metadata": {},
   "source": [
    "### Visualizing\n",
    "\n",
    "Again, but with the predictions!"
   ]
  },
  {
   "cell_type": "code",
   "execution_count": 16,
   "metadata": {},
   "outputs": [
    {
     "data": {
      "image/png": "[encoded data removed]",
      "text/plain": [
       "<matplotlib.figure.Figure at 0x1102d91d0>"
      ]
     },
     "metadata": {},
     "output_type": "display_data"
    }
   ],
   "source": [
    "fig, all_axs = plt.subplots(3, timesteps, figsize=(16, 4))\n",
    "all_axs = all_axs.T\n",
    "\n",
    "VISIBLES = 0\n",
    "TRUE_STATES = 1\n",
    "FILTERING = 2\n",
    "\n",
    "all_axs[0][VISIBLES].set_title('Visibles', x=-0.5, y=0.2)\n",
    "all_axs[0][TRUE_STATES].set_title('Actual', x=-0.5, y=0.4)\n",
    "all_axs[0][FILTERING].set_title('Filtering', x=-0.5, y=0.4)\n",
    "\n",
    "for i, (axs, hidden, visible, alpha) in enumerate(zip(all_axs, hiddens, visibles, alphas)):\n",
    "    axs[VISIBLES].imshow([map_visible_state_to_bump_creak[visible]], cmap='gray')\n",
    "    hide_ticks(axs[VISIBLES])    \n",
    "    \n",
    "    axs[TRUE_STATES].imshow(plot_state_in_room(hidden), cmap='gray')\n",
    "    hide_ticks(axs[TRUE_STATES])\n",
    "    \n",
    "    axs[FILTERING].imshow(alpha.reshape(height, width))\n",
    "    hide_ticks(axs[FILTERING])      \n",
    "    \n",
    "maybe_save_plot('2018-05-02-filtering')\n",
    "plt.show()"
   ]
  },
  {
   "cell_type": "code",
   "execution_count": null,
   "metadata": {
    "collapsed": true
   },
   "outputs": [],
   "source": []
  }
 ],
 "metadata": {
  "kernelspec": {
   "display_name": "Python 3",
   "language": "python",
   "name": "python3"
  },
  "language_info": {
   "codemirror_mode": {
    "name": "ipython",
    "version": 3
   },
   "file_extension": ".py",
   "mimetype": "text/x-python",
   "name": "python",
   "nbconvert_exporter": "python",
   "pygments_lexer": "ipython3",
   "version": "3.6.2"
  }
 },
 "nbformat": 4,
 "nbformat_minor": 2
}
