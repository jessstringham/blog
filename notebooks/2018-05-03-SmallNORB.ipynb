{
 "cells": [
  {
   "cell_type": "markdown",
   "metadata": {},
   "source": [
    "# SmallNORB\n",
    "\n",
    "SmallNORB is a dataset used in machine learning. It shows toys from various angles and in different lighting.\n",
    "\n",
    "It's available here: https://cs.nyu.edu/~ylclab/data/norb-v1.0-small/\n",
    "\n",
    "This notebook:\n",
    " - downloads the files\n",
    " - parses the files' headers and loads the data into numpy arrays\n",
    " - draws a few of the images and has an interactive tool.\n",
    "\n",
    "I've only tested this on Python 3.5. Other than that, it should only require numpy, jupyter, and matplotlib."
   ]
  },
  {
   "cell_type": "markdown",
   "metadata": {},
   "source": [
    "## Overview of files\n",
    "\n",
    "Before I start, here's an overview of the dataset based on information from [the page (the source of truth for this dataset!)](https://cs.nyu.edu/~ylclab/data/norb-v1.0-small/)\n",
    "\n",
    "There are a number of toys of different categories. Each toy is photographed from a fixed number of angles and lighting. The toys are grouped into one of 5 categories such as 'cars'. In each category, there are 10 toys which are referred to as an \"instances.\" \n",
    "\n",
    "There are two sets of files, one for training and one for testing. The training and testing datasets are divided across instances. So the 24,300 examples of instances 4, 6, 7, 8, 9 of all classes make up the training set. \n",
    "\n",
    "Each set contains three files. Each file's first dimension represents the 24,300 examples. The files are:\n",
    "\n",
    " - **`dat`**: The images! An example is of size `(2, 96, 96)`. This represents two `(96, 96)` images, one for each of two cameras.\n",
    " - **`cat`**: An example is an int. This represents the category id.\n",
    " - **`info`**: An example is `(4,)`. This represents the metadata about lighting/angle/etc. Specifically:\n",
    "   - **`instance`**: id `[0-9]` of which toy from the category it is.\n",
    "   - **`elevation`**: id `[0-8]` representing the elevation of the camera (from 30 to 70 using increments of 5).\n",
    "   - **`azimuth`**: id `[0-34]` (only even numbers!), where multiplying by 10 represents the azimuth. Heads up that instances aren't aligned! `azimuth=0` for two toys will point in two different directions.\n",
    "   - **`lighting`**: id `[0-5]` representing the lighting."
   ]
  },
  {
   "cell_type": "code",
   "execution_count": 1,
   "metadata": {
    "collapsed": true
   },
   "outputs": [],
   "source": [
    "from collections import namedtuple\n",
    "import gzip\n",
    "import os\n",
    "import requests\n",
    "import struct\n",
    "\n",
    "import matplotlib.pyplot as plt\n",
    "import numpy as np"
   ]
  },
  {
   "cell_type": "markdown",
   "metadata": {},
   "source": [
    "## Downloading\n",
    "\n",
    "The next code block downloads and decompresses the 6 files from https://cs.nyu.edu/~ylclab/data/norb-v1.0-small/ in the `DATA_FOLDER` location.\n",
    "If you already have the decompressed files, you can point `DATA_FOLDER` to their folder.\n",
    "\n",
    "*Heads up, the `dat` files are large. This may take a while.*"
   ]
  },
  {
   "cell_type": "code",
   "execution_count": 2,
   "metadata": {},
   "outputs": [
    {
     "name": "stdout",
     "output_type": "stream",
     "text": [
      "skipping data/smallnorb-5x46789x9x18x6x2x96x96-training-info.mat, already downloaded\n",
      "skipping data/smallnorb-5x46789x9x18x6x2x96x96-training-cat.mat, already downloaded\n",
      "skipping data/smallnorb-5x46789x9x18x6x2x96x96-training-dat.mat, already downloaded\n",
      "skipping data/smallnorb-5x01235x9x18x6x2x96x96-testing-info.mat, already downloaded\n",
      "skipping data/smallnorb-5x01235x9x18x6x2x96x96-testing-cat.mat, already downloaded\n",
      "skipping data/smallnorb-5x01235x9x18x6x2x96x96-testing-dat.mat, already downloaded\n"
     ]
    }
   ],
   "source": [
    "DATA_FOLDER = 'data'\n",
    "URL = 'https://cs.nyu.edu/~ylclab/data/norb-v1.0-small/'\n",
    "\n",
    "PREFIXES = {\n",
    "    'train': 'smallnorb-5x46789x9x18x6x2x96x96-training-',\n",
    "    'test': 'smallnorb-5x01235x9x18x6x2x96x96-testing-',\n",
    "}\n",
    "\n",
    "FILE_TYPES = ['info', 'cat', 'dat']\n",
    "\n",
    "SUFFIX = '.mat'\n",
    "\n",
    "for prefix in PREFIXES.values():\n",
    "    for file_type in FILE_TYPES:\n",
    "        file_name = prefix + file_type + SUFFIX\n",
    "        output_location = os.path.join(DATA_FOLDER, file_name)\n",
    "        file_location = URL + file_name + '.gz'\n",
    "        \n",
    "        if os.path.exists(output_location):\n",
    "            print('skipping {}, already downloaded'.format(output_location))\n",
    "            continue\n",
    "        \n",
    "        print('Downloading {} to {}'.format(file_location, output_location))\n",
    "\n",
    "        r = requests.get(file_location)\n",
    "        with open(output_location, 'wb') as f:\n",
    "            f.write(gzip.decompress(r.content))"
   ]
  },
  {
   "cell_type": "markdown",
   "metadata": {},
   "source": [
    "## Reading the files\n",
    "\n",
    "[The site](https://cs.nyu.edu/~ylclab/data/norb-v1.0-small/) walks through how the files are represented.\n",
    "Each of the files has a header that explains how to read the data structure of the rest of the file. \n",
    "\n",
    "In this block, for each file, I read the header, then use it to load a numpy array of the file."
   ]
  },
  {
   "cell_type": "code",
   "execution_count": 3,
   "metadata": {},
   "outputs": [
    {
     "name": "stdout",
     "output_type": "stream",
     "text": [
      "Reading smallnorb-5x46789x9x18x6x2x96x96-training-info.mat\n",
      "dtype <class 'numpy.int32'>\n",
      "shape [24300, 4]\n",
      "Reading smallnorb-5x46789x9x18x6x2x96x96-training-cat.mat\n",
      "dtype <class 'numpy.int32'>\n",
      "shape [24300]\n",
      "Reading smallnorb-5x46789x9x18x6x2x96x96-training-dat.mat\n",
      "dtype <class 'numpy.uint8'>\n",
      "shape [24300, 2, 96, 96]\n",
      "Reading smallnorb-5x01235x9x18x6x2x96x96-testing-info.mat\n",
      "dtype <class 'numpy.int32'>\n",
      "shape [24300, 4]\n",
      "Reading smallnorb-5x01235x9x18x6x2x96x96-testing-cat.mat\n",
      "dtype <class 'numpy.int32'>\n",
      "shape [24300]\n",
      "Reading smallnorb-5x01235x9x18x6x2x96x96-testing-dat.mat\n",
      "dtype <class 'numpy.uint8'>\n",
      "shape [24300, 2, 96, 96]\n"
     ]
    }
   ],
   "source": [
    "# helper function to read int from file\n",
    "def read_int(f):\n",
    "    num, = struct.unpack('i', f.read(4))\n",
    "    return num\n",
    "\n",
    "\n",
    "# From https://cs.nyu.edu/~ylclab/data/norb-v1.0-small/ \n",
    "# \"The magic number encodes the element type of the matrix\"\n",
    "# Note: I only copied over the ones I needed for these files.\n",
    "map_magic_number_to_data_type = {\n",
    "    '1e3d4c55': np.uint8,\n",
    "    '1e3d4c54': np.int32,\n",
    "}\n",
    "\n",
    "loaded_data = {}\n",
    "\n",
    "for dataset, prefix in PREFIXES.items():\n",
    "    for filetype in FILE_TYPES:\n",
    "        filename = prefix + filetype + SUFFIX\n",
    "        print('Reading {}'.format(filename))\n",
    "        \n",
    "        file_loc = os.path.join(DATA_FOLDER, filename)\n",
    "        with open(file_loc, 'rb') as f:\n",
    "            # Read the magic_num, convert it to hexadecimal, and look up the data_type\n",
    "            raw_magic_num = read_int(f)\n",
    "            magic_num = format(raw_magic_num, '02x')\n",
    "            data_type = map_magic_number_to_data_type[magic_num]\n",
    "            print('dtype', data_type)\n",
    "\n",
    "            # Read how many dimensions to expect\n",
    "            ndim = read_int(f)\n",
    "            \n",
    "            # Read at least 3 ints, or however many ndim there are\n",
    "            shape = [\n",
    "                read_int(f)\n",
    "                for i in range(max(ndim, 3))\n",
    "            ]   \n",
    "            # But in case ndims < 3, take at most n_dim elements\n",
    "            shape = shape[:ndim]\n",
    "            print('shape', shape)\n",
    "    \n",
    "            # Now load the actual data!\n",
    "            loaded_data[(dataset, filetype)] = np.fromfile(\n",
    "                f, \n",
    "                dtype=data_type, \n",
    "                count=np.prod(shape)\n",
    "            ).reshape(shape)"
   ]
  },
  {
   "cell_type": "markdown",
   "metadata": {},
   "source": [
    "### Saving the data in a new format\n",
    "\n",
    "If at this point, you want SmallNORB in `npz` file for another project, you could do something like:\n",
    "\n",
    "    np.savez_compressed(\n",
    "        'data/smallnorb-20180503-train.npz', \n",
    "        inputs=loaded_data[('train', 'dat'), \n",
    "        targets=loaded_data[('train', 'cat')],\n",
    "    )"
   ]
  },
  {
   "cell_type": "markdown",
   "metadata": {},
   "source": [
    "## Exploring the dataset\n",
    "\n",
    "Now I'll explore the dataset.\n",
    "\n",
    "The downloaded dataset splits instances across the train and test set. For exploration, I'm going to concatenate them and make a mapping from metadata and category to the image index."
   ]
  },
  {
   "cell_type": "code",
   "execution_count": 4,
   "metadata": {},
   "outputs": [],
   "source": [
    "# I'll index examples out of this dataset\n",
    "all_dat = np.vstack((\n",
    "    loaded_data[('train', 'dat')], \n",
    "    loaded_data[('test', 'dat')]\n",
    "))\n",
    "\n",
    "\n",
    "# These I'll use to build the example_lookup table\n",
    "all_info = np.vstack((\n",
    "    loaded_data[('train', 'info')], \n",
    "    loaded_data[('test', 'info')]\n",
    "))\n",
    "# hstack these because it's a 1d vec\n",
    "all_targets = np.hstack((\n",
    "    loaded_data[('train', 'cat')], \n",
    "    loaded_data[('test', 'cat')]\n",
    "))\n",
    "\n",
    "# I'll concatenate the category and the info. The info field names\n",
    "# come from https://cs.nyu.edu/~ylclab/data/norb-v1.0-small/\n",
    "ExampleLookupKey = namedtuple('ExampleLookupKey', [\n",
    "    'category',\n",
    "    'instance',\n",
    "    'elevation',\n",
    "    'azimuth',\n",
    "    'lighting',\n",
    "])\n",
    "\n",
    "# Map infos/category to the index of the image in `all_dat`\n",
    "example_lookup = {\n",
    "    ExampleLookupKey(category, *info): i\n",
    "    for i, (info, category) in enumerate(zip(all_info, all_targets))\n",
    "}"
   ]
  },
  {
   "cell_type": "markdown",
   "metadata": {},
   "source": [
    "## Rotating image example\n",
    "\n",
    "I can use the `example_lookup` dictionary to look-up related images. So for example, I can vary nothing but the azimuth."
   ]
  },
  {
   "cell_type": "code",
   "execution_count": 5,
   "metadata": {},
   "outputs": [
    {
     "data": {
      "image/png": "[encoded data removed]",
      "text/plain": [
       "<matplotlib.figure.Figure at 0x113482080>"
      ]
     },
     "metadata": {},
     "output_type": "display_data"
    }
   ],
   "source": [
    "fig, axs = plt.subplots(1, 10, figsize=(10, 1))\n",
    "\n",
    "for ax, azimuth_i in zip(axs, range(10)):\n",
    "    # set everything else arbitrarily\n",
    "    example_key = ExampleLookupKey(\n",
    "        category=4,\n",
    "        instance=8,\n",
    "        elevation=2,\n",
    "        azimuth=2 * azimuth_i,\n",
    "        lighting=2, \n",
    "    )\n",
    "    \n",
    "    example_id = example_lookup[example_key]\n",
    "    # limit to one of the cameras\n",
    "    image = all_dat[example_id][0]\n",
    "    \n",
    "    ax.imshow(image, cmap='gray')\n",
    "    ax.axis('off')\n",
    "\n",
    "plt.show()"
   ]
  },
  {
   "cell_type": "markdown",
   "metadata": {},
   "source": [
    "### Interactive exploration\n",
    "\n",
    "This one is my favorite. I can use the sliders to rotate the toys or view different toys."
   ]
  },
  {
   "cell_type": "code",
   "execution_count": 6,
   "metadata": {},
   "outputs": [
    {
     "data": {
      "application/vnd.jupyter.widget-view+json": {
       "model_id": "93cc2ae7e0a04179aa0688ed87f54ddb",
       "version_major": 2,
       "version_minor": 0
      },
      "text/html": [
       "<p>Failed to display Jupyter Widget of type <code>interactive</code>.</p>\n",
       "<p>\n",
       "  If you're reading this message in Jupyter Notebook or JupyterLab, it may mean\n",
       "  that the widgets JavaScript is still loading. If this message persists, it\n",
       "  likely means that the widgets JavaScript library is either not installed or\n",
       "  not enabled. See the <a href=\"https://ipywidgets.readthedocs.io/en/stable/user_install.html\">Jupyter\n",
       "  Widgets Documentation</a> for setup instructions.\n",
       "</p>\n",
       "<p>\n",
       "  If you're reading this message in another notebook frontend (for example, a static\n",
       "  rendering on GitHub or <a href=\"https://nbviewer.jupyter.org/\">NBViewer</a>),\n",
       "  it may mean that your frontend doesn't currently support widgets.\n",
       "</p>\n"
      ],
      "text/plain": [
       "interactive(children=(IntSlider(value=2, description='category', max=4), IntSlider(value=4, description='instance', max=9), IntSlider(value=4, description='elevation', max=8), IntSlider(value=8, description='azimuth', max=17), IntSlider(value=2, description='lighting', max=5), Checkbox(value=False, description='camera_b'), Output()), _dom_classes=('widget-interact',))"
      ]
     },
     "metadata": {},
     "output_type": "display_data"
    },
    {
     "data": {
      "text/plain": [
       "<function __main__.draw_image>"
      ]
     },
     "execution_count": 6,
     "metadata": {},
     "output_type": "execute_result"
    }
   ],
   "source": [
    "from ipywidgets import interact\n",
    "\n",
    "# Hardcode more info from https://cs.nyu.edu/~ylclab/data/norb-v1.0-small/\n",
    "category_idx_to_label = [\n",
    "    'animal',\n",
    "    'human',\n",
    "    'airplane',\n",
    "    'truck',\n",
    "    'car',\n",
    "]\n",
    "\n",
    "elevations_idx_to_label = list(range(30, 72, 5))\n",
    "\n",
    "# Heads up, `info` contains only even values for azimuths\n",
    "# So if I'm not using data from `info`, I need to index into this\n",
    "# by first multiplying by 2\n",
    "azimuth_id_to_label = list(range(0, 360, 10))\n",
    "\n",
    "def draw_image(category, instance, elevation, azimuth, lighting, camera_b):\n",
    "    camera = 1 if camera_b else 0\n",
    "\n",
    "    example_key = ExampleLookupKey(\n",
    "        category=category,\n",
    "        instance=instance,\n",
    "        elevation=elevation,\n",
    "        azimuth=2 * azimuth, # azimuth in info is 2 * the index\n",
    "        lighting=lighting, \n",
    "    )\n",
    "    \n",
    "    example_id = example_lookup[example_key]\n",
    "    \n",
    "    plt.imshow(all_dat[example_id, camera], cmap='gray')\n",
    "    plt.axis('off')\n",
    "    plt.show()\n",
    "\n",
    "    print('category:', category_idx_to_label[category])\n",
    "    print('example:', all_info[example_id][0])\n",
    "    print('elevation:', elevations_idx_to_label[all_info[example_id][1]])\n",
    "    print('azimuth:', azimuth_id_to_label[all_info[example_id][2]])\n",
    "    print('lighting:', all_info[example_id][3])\n",
    "\n",
    "interact(\n",
    "    draw_image,\n",
    "    category=(0, 4),    \n",
    "    instance=(0, 9),\n",
    "    elevation=(0, 8),\n",
    "    azimuth=(0, 17),\n",
    "    lighting=(0, 5),\n",
    "    camera_b=False,    \n",
    ")\n"
   ]
  }
 ],
 "metadata": {
  "kernelspec": {
   "display_name": "Python 3",
   "language": "python",
   "name": "python3"
  },
  "language_info": {
   "codemirror_mode": {
    "name": "ipython",
    "version": 3
   },
   "file_extension": ".py",
   "mimetype": "text/x-python",
   "name": "python",
   "nbconvert_exporter": "python",
   "pygments_lexer": "ipython3",
   "version": "3.6.2"
  }
 },
 "nbformat": 4,
 "nbformat_minor": 2
}
