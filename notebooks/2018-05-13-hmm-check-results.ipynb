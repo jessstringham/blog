{
 "cells": [
  {
   "cell_type": "markdown",
   "metadata": {},
   "source": [
    "# Verify HMM Checks\n",
    "\n",
    "This post recreates the example from [\"Bayesian Reasoning and Machine Learning\"](http://www.cs.ucl.ac.uk/staff/d.barber/brml/) to sanity check my results. See [my alpha recursion HMM post](2018-05-02-hmm-alpha-recursion.ipynb) and [my viterbi HMM post](2018-05-13-more-exact-inference-in-hmm.ipynb) for the real posts (which use custom generated data instead)."
   ]
  },
  {
   "cell_type": "code",
   "execution_count": 1,
   "metadata": {
    "scrolled": false
   },
   "outputs": [
    {
     "name": "stdout",
     "output_type": "stream",
     "text": [
      "[11 10  4  3  4 10 16 17 23 17]\n"
     ]
    }
   ],
   "source": [
    "import numpy as np\n",
    "import matplotlib.pyplot as plt\n",
    "\n",
    "import nb_code.hmm_alpha_recursion as prev_post\n",
    "import nb_code.viterbi as viterbi_post"
   ]
  },
  {
   "cell_type": "code",
   "execution_count": 2,
   "metadata": {
    "collapsed": true
   },
   "outputs": [],
   "source": [
    "# helper functions you can skip over :D\n",
    "def hide_ticks(plot):\n",
    "    plot.axes.get_xaxis().set_visible(False)\n",
    "    plot.axes.get_yaxis().set_visible(False)"
   ]
  },
  {
   "cell_type": "markdown",
   "metadata": {},
   "source": [
    "## Code\n",
    "\n",
    "This adjust the constants from the previous posts to match the example in the textbook."
   ]
  },
  {
   "cell_type": "code",
   "execution_count": 3,
   "metadata": {
    "scrolled": false
   },
   "outputs": [],
   "source": [
    "width = 5\n",
    "height = 5\n",
    "num_hidden_states = width * height\n",
    "\n",
    "map_x_y_to_hidden_state_id = np.arange(num_hidden_states).reshape(height, width).T\n",
    "\n",
    "# prob of starting starting locations\n",
    "p_hidden_start = np.ones(num_hidden_states) / num_hidden_states\n",
    "\n",
    "# verify it's a valid probability distribution\n",
    "assert np.all(np.isclose(np.sum(p_hidden_start), 1))\n",
    "assert np.all(p_hidden_start >= 0)\n",
    "\n",
    "p_transition = prev_post.create_transition(width, height)\n",
    "\n",
    "# Hard code the creak and bump locations!\n",
    "prob_bump_true_given_location = 0.1 * np.ones(num_hidden_states)\n",
    "prob_bump_true_given_location[[3, 4, 6, 7, 11, 15, 18, 19, 20, 21]] = 0.9\n",
    "\n",
    "prob_creak_true_given_location = 0.1 * np.ones(num_hidden_states)\n",
    "prob_creak_true_given_location[[0, 3, 4, 5, 8, 9, 11, 13, 16, 20]] = 0.9\n",
    "\n",
    "p_emission = prev_post.get_emission_matrix(prob_bump_true_given_location, prob_creak_true_given_location)\n",
    "\n",
    "# hard code the visibles and hidden\n",
    "visibles = np.array([1, 2, 0, 3, 0, 3, 2, 2, 3, 3])\n",
    "hiddens = np.array([15, 16, 11, 6, 11, 10, 5, 0, 1, 2])\n",
    "\n",
    "alphas = prev_post.alpha_recursion(\n",
    "    visibles, \n",
    "    p_hidden_start,\n",
    "    p_transition,\n",
    "    p_emission,\n",
    ")\n",
    "\n",
    "most_likely_states = viterbi_post.viterbi(\n",
    "    visibles, \n",
    "    p_hidden_start,\n",
    "    p_transition,\n",
    "    p_emission,\n",
    ")"
   ]
  },
  {
   "cell_type": "markdown",
   "metadata": {},
   "source": [
    "### Visualizing bumps and creaks\n",
    "\n",
    "This should match the image on page 501."
   ]
  },
  {
   "cell_type": "code",
   "execution_count": 4,
   "metadata": {},
   "outputs": [
    {
     "data": {
      "image/png": "[encoded data removed]",
      "text/plain": [
       "<matplotlib.figure.Figure at 0x115bbc1d0>"
      ]
     },
     "metadata": {},
     "output_type": "display_data"
    }
   ],
   "source": [
    "fig, (bump, creak) = plt.subplots(1, 2)\n",
    "\n",
    "bump.imshow(prob_bump_true_given_location.reshape(height, width))\n",
    "bump.set_title('p(bump=True|h)')\n",
    "hide_ticks(bump)\n",
    "\n",
    "creak.imshow(prob_creak_true_given_location.reshape(height, width))\n",
    "creak.set_title('p(creak=True|h)')\n",
    "hide_ticks(creak)\n",
    "\n",
    "plt.show()"
   ]
  },
  {
   "cell_type": "markdown",
   "metadata": {},
   "source": [
    "### Visualizing different methods\n",
    "\n",
    "This should match the image on page 502."
   ]
  },
  {
   "cell_type": "code",
   "execution_count": 5,
   "metadata": {},
   "outputs": [
    {
     "data": {
      "image/png": "[encoded data removed]",
      "text/plain": [
       "<matplotlib.figure.Figure at 0x119041860>"
      ]
     },
     "metadata": {},
     "output_type": "display_data"
    }
   ],
   "source": [
    "fig, all_axs = plt.subplots(4, prev_post.timesteps, figsize=(16, 4))\n",
    "all_axs = all_axs.T\n",
    "\n",
    "VISIBLES = 0\n",
    "TRUE_STATES = 1\n",
    "FILTERING = 2\n",
    "VITERBI = 3\n",
    "\n",
    "all_axs[0][VISIBLES].set_title('Visibles', x=-0.5, y=0.2)\n",
    "all_axs[0][TRUE_STATES].set_title('Actual', x=-0.5, y=0.4)\n",
    "all_axs[0][FILTERING].set_title('Filtering', x=-0.5, y=0.4)\n",
    "all_axs[0][VITERBI].set_title('Viterbi', x=-0.5, y=0.4)\n",
    "\n",
    "for i, (axs, hidden, visible, alpha, viterbi) in enumerate(zip(all_axs, hiddens, visibles, alphas, most_likely_states)):\n",
    "    axs[VISIBLES].imshow([prev_post.map_visible_state_to_bump_creak[visible]], cmap='gray', vmin=0)\n",
    "    hide_ticks(axs[VISIBLES])    \n",
    "    \n",
    "    axs[TRUE_STATES].imshow(prev_post.plot_state_in_room(hidden, width=width, height=height), cmap='gray')\n",
    "    hide_ticks(axs[TRUE_STATES])\n",
    "    \n",
    "    axs[FILTERING].imshow(alpha.reshape(height, width))\n",
    "    hide_ticks(axs[FILTERING])      \n",
    "    \n",
    "    axs[VITERBI].imshow(prev_post.plot_state_in_room(viterbi, width=width, height=height), cmap='gray')\n",
    "    hide_ticks(axs[VITERBI])\n",
    "    \n",
    "plt.show()"
   ]
  }
 ],
 "metadata": {
  "kernelspec": {
   "display_name": "Python 3",
   "language": "python",
   "name": "python3"
  },
  "language_info": {
   "codemirror_mode": {
    "name": "ipython",
    "version": 3
   },
   "file_extension": ".py",
   "mimetype": "text/x-python",
   "name": "python",
   "nbconvert_exporter": "python",
   "pygments_lexer": "ipython3",
   "version": "3.6.1"
  }
 },
 "nbformat": 4,
 "nbformat_minor": 2
}
