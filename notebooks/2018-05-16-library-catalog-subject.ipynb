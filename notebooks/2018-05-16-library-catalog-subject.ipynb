{
 "cells": [
  {
   "cell_type": "markdown",
   "metadata": {},
   "source": [
    "# Plotting Library Catalog Subjects\n",
    "\n",
    "Kaggle has a cool dataset of the Seattle Public Library's catalog. Each item has a list of subjects. For example, the first entry has:\n",
    "\n",
    "    Musicians Fiction, Bullfighters Fiction, Best friends Fiction, Friendship Fiction, Adventure and adventurers Fiction\n",
    "\n",
    "Using what I learned in my NLP course last semester, I used one method of building word vectors to make vectors representing library catalog subjects. When I plot them I get something like this:\n",
    "\n",
    "![](images/2018-05-16-labeled-plot.png)\n",
    "\n",
    "### Motivation\n",
    "\n",
    "Natural language processing has techniques for converting words into continuous vector representations: `fish` can be represented with a vector like `[0.2, -0.23, 0.0]`. These sometimes contain interesting information (e.g. [\"king - man + woman = queen\"](http://p.migdal.pl/2017/01/06/king-man-woman-queen-why.html)). \n",
    "\n",
    "I can use one of those techniques to come up with vectors representing library catalog subjects.\n",
    "\n",
    "Primarily I wanted to use the vectors to plot the library book subjects. I'm curious if I'd see a dimension representing the \"children's books - young adult - grown up\", or if science subjects cluster together.\n",
    "\n",
    "Word vectors are also useful in Information Retrieval. With a vector representation, I can use math to measure how similar two subjects are. For example, if I'm searching the catalog for \"Friendship Fiction\", I wouldn't mind also seeing \"Best friends Fiction\" books that are missing the \"Friendship Fiction\" label. Subject vectors could help.\n",
    "\n",
    "Word vectors are also used in more complex NLP models like neural machine translation.\n",
    "The way I think of this is that if I can tell the model that \"Best friends Fiction\" and \"Friendship Fiction\" are related in a specific way, then when the model learns about \"Best friends Fiction\", it can also improve predictions for \"Friendship Fiction.\"\n",
    "\n",
    "### Vector representations\n",
    "\n",
    "In NLP-land, \"distributional methods\" assume that \"Words that occur in similar contexts tend to have similar meanings\" (from [Jurafsky and Martin's textbook](http://web.stanford.edu/~jurafsky/slp3/15.pdf)). I think distributional methods would make interesting representations of library catalog subjects.\n",
    "One way to turn this into word vectors is to make sparse vectors of metrics based on co-occurring words, and then reduce the number of dimensions to get a dense vector.\n",
    "\n",
    "\n",
    "### Plan\n",
    "\n",
    "Using this assumption with library catalog subjects, I can describe \"Musicians Fiction\" with the subjects \"Bullfighters Fiction\", \"Best friends Fiction\", and so on. Specifically, I'll go through all catalog entries that contain \"Musicians Fiction\" and count up how many times each other subject shows up. This will give me a huge vector of counts like:\n",
    "\n",
    "     Musicians Fiction:   0 1 4 0 ... 150K other numbers, mostly 0s ... 1 0 1 0\n",
    "\n",
    "I could store this in a big `Number of subjects x Number of subjects` matrix, but it turns out there are a lot of subjects (~150K)! Because of computational limitations, I'll define a subset of subjects containing the \"interesting\" subjects (~1000), and only compute dense vectors for these. This means I'll use a matrix of size `Number of interesting subjects x Number of subjects` (1000 x 150K). By doing it this way, I'll still use the rarer subjects when coming up with the dense vectors of the interesting subjects.\n",
    "\n",
    "Raw co-occurrence counts and relative frequencies have some issues. For word vectors, one problem is that words like \"the\" occur with all subjects equally (or for library catalog subject vectors, maybe \"Large print books\" co-occur with many other subjects). These subjects don't provide more information about the interesting subjects. So instead of using the counts directly, I'll use PPMI, which is higher if the words co-occur more often than chance. It is a function of the co-occurrence counts and global counts.\n",
    "\n",
    "At this point, I'll have sparse vectors of length `Number of subjects` (~150K) that represent each of my interesting subjects. I'll use PCA to reduce the number of dimensions. Dimensionality reduction is really cool! By reducing the number of dimensions in a clever way, the vector might represent higher-order co-occurrence. [Here's a post on reducing dimensions using SVD](2018-05-16-SVD-demo.ipynb).\n",
    "\n",
    "This was a quick introduction to dense vectors. Check out [Vector Semantics](https://web.stanford.edu/~jurafsky/slp3/15.pdf) and [Semantics with Dense Vectors](https://web.stanford.edu/~jurafsky/slp3/16.pdf) for details!"
   ]
  },
  {
   "cell_type": "markdown",
   "metadata": {},
   "source": [
    "## Preprocessing"
   ]
  },
  {
   "cell_type": "code",
   "execution_count": 1,
   "metadata": {},
   "outputs": [],
   "source": [
    "# imports and helper functions you can skip over :D\n",
    "import csv\n",
    "from collections import defaultdict\n",
    "import os\n",
    "\n",
    "import matplotlib.pyplot as plt\n",
    "import numpy as np\n",
    "import pandas as pd\n",
    "import scipy.sparse as sp\n",
    "from scipy.sparse.linalg import svds\n",
    "\n",
    "SAVE = True\n",
    "def maybe_save_plot(filename):\n",
    "    if SAVE:\n",
    "        plt.tight_layout()\n",
    "        plt.savefig('images/' + filename, bbox_inches=\"tight\")"
   ]
  },
  {
   "cell_type": "markdown",
   "metadata": {},
   "source": [
    "### Data\n",
    "\n",
    "I got this data from [Kaggle](http://kaggle.com/seattle-public-library), though it's also available at [data.seattle.gov](https://data.seattle.gov/Community/Checkouts-by-Title/tmmm-ytt6). I have it downloaded and unzipped locally in the `data` folder. "
   ]
  },
  {
   "cell_type": "code",
   "execution_count": 2,
   "metadata": {},
   "outputs": [],
   "source": [
    "LOCATION = 'data/seattle-library-checkout-records/'\n",
    "file_path = os.path.join(LOCATION, 'Library_Collection_Inventory.csv')"
   ]
  },
  {
   "cell_type": "markdown",
   "metadata": {},
   "source": [
    "Here's what a line of the `Library_Collection_Inventory.csv` file contains:"
   ]
  },
  {
   "cell_type": "code",
   "execution_count": 3,
   "metadata": {},
   "outputs": [
    {
     "name": "stdout",
     "output_type": "stream",
     "text": [
      "('BibNum', '3011076')\n",
      "('Title', \"A tale of two friends / adapted by Ellie O'Ryan ; illustrated by Tom Caulfield, Frederick Gardner, Megan Petasky, and Allen Tam.\")\n",
      "('Author', \"O'Ryan, Ellie\")\n",
      "('ISBN', '1481425730, 1481425749, 9781481425735, 9781481425742')\n",
      "('PublicationYear', '2014.')\n",
      "('Publisher', 'Simon Spotlight,')\n",
      "('Subjects', 'Musicians Fiction, Bullfighters Fiction, Best friends Fiction, Friendship Fiction, Adventure and adventurers Fiction')\n",
      "('ItemType', 'jcbk')\n",
      "('ItemCollection', 'ncrdr')\n",
      "('FloatingItem', 'Floating')\n",
      "('ItemLocation', 'qna')\n",
      "('ReportDate', '09/01/2017')\n",
      "('ItemCount', '1')\n"
     ]
    }
   ],
   "source": [
    "# print the first entry\n",
    "with open(file_path, 'r') as csvfile:\n",
    "    reader = csv.DictReader(csvfile)\n",
    "    print('\\n'.join(map(str, next(reader).items())))"
   ]
  },
  {
   "cell_type": "markdown",
   "metadata": {},
   "source": [
    "### Preprocessing\n",
    "\n",
    "I'll start by getting the list of subjects out of the file and perform a little preprocessing.\n",
    "\n",
    "First, I'll drop items without subjects. Then I'll work with lowercase strings.\n",
    "\n",
    "Then I'll remove duplicates. If I have duplicate items with the same subjects, I'll overestimate how closely two subjects are related. A complication is that the `Title` field alone isn't enough to detect duplicates. For example, here are a few `Title` fields for \"Crime and Punishment\":\n",
    "\n",
    "    Crime and punishment / Fyodor Dostoyevsky ; translated with an introduction and notes by Oliver Ready.\n",
    "    Crime and punishment / Fyodor Dostoevsky ; translated from the Russian by Richard Pevear and Larissa Volokhonsky\n",
    "    Crime and punishment / Fyodor Dostoyevsky ; translated with an introduction and notes by David McDuff.\n",
    "    Crime and punishment / Fyodor Dostoyevsky ; translated with an introduction and notes by David McDuff.\n",
    "    Crime and punishment / Fyodor Dostoyevsky ; translated with an introduction and notes by David McDuff.\n",
    "        \n",
    "A naive way to mitigate this is to count an item as unique if it has the same title (the text before the `/` in the `Title` field) and author (from the `Author` field), and take the union of all duplicate entries' subjects."
   ]
  },
  {
   "cell_type": "code",
   "execution_count": 4,
   "metadata": {},
   "outputs": [],
   "source": [
    "items_to_subjects = defaultdict(set)\n",
    "\n",
    "def clean_text(text):\n",
    "    return text.strip().lower()\n",
    "\n",
    "def normalize_item(item):\n",
    "    # TODO: The library system has multiple copies of the same book. \n",
    "    # This catches a few books with exactly the same title/author, because\n",
    "    # otherwise I'll overcount their subjects' co-occurrences. But this approach\n",
    "    # can be improved!\n",
    "    title = item['Title'].split('/')[0]  # The stuff before '/' looks like the title\n",
    "    return (\n",
    "        clean_text(title),\n",
    "        clean_text(item['Author']),\n",
    "    )\n",
    "\n",
    "with open(file_path, 'r') as csvfile:\n",
    "    reader = csv.DictReader(csvfile)\n",
    "    for i, item in enumerate(reader):\n",
    "        subjects = [\n",
    "            clean_text(item)\n",
    "            for item in item['Subjects'].split(', ')\n",
    "        ]\n",
    "        \n",
    "        # Drop items without subjects!\n",
    "        if not subjects:\n",
    "            continue\n",
    "            \n",
    "        # normalize the item\n",
    "        item_info = normalize_item(item)\n",
    "        \n",
    "        items_to_subjects[item_info].update(subjects)"
   ]
  },
  {
   "cell_type": "markdown",
   "metadata": {},
   "source": [
    "### Pandas\n",
    "\n",
    "Now I'll expand `items_to_subjects` into a list of `item-subject` pairs and make a `pandas` DataFrame from it. I just use `pandas` to make it a little easier to compute counts."
   ]
  },
  {
   "cell_type": "code",
   "execution_count": 5,
   "metadata": {},
   "outputs": [],
   "source": [
    "all_item_subject_pairs_df = pd.DataFrame(\n",
    "    [\n",
    "        (item, subject)\n",
    "        for item, subjects in items_to_subjects.items()\n",
    "        for subject in subjects\n",
    "    ], \n",
    "    columns=['Item', 'Subject']\n",
    ")"
   ]
  },
  {
   "cell_type": "code",
   "execution_count": 6,
   "metadata": {},
   "outputs": [
    {
     "data": {
      "text/html": [
       "<div>\n",
       "<style>\n",
       "    .dataframe thead tr:only-child th {\n",
       "        text-align: right;\n",
       "    }\n",
       "\n",
       "    .dataframe thead th {\n",
       "        text-align: left;\n",
       "    }\n",
       "\n",
       "    .dataframe tbody tr th {\n",
       "        vertical-align: top;\n",
       "    }\n",
       "</style>\n",
       "<table border=\"1\" class=\"dataframe\">\n",
       "  <thead>\n",
       "    <tr style=\"text-align: right;\">\n",
       "      <th></th>\n",
       "      <th>Item</th>\n",
       "      <th>Subject</th>\n",
       "    </tr>\n",
       "  </thead>\n",
       "  <tbody>\n",
       "    <tr>\n",
       "      <th>0</th>\n",
       "      <td>(a tale of two friends, o'ryan, ellie)</td>\n",
       "      <td>bullfighters fiction</td>\n",
       "    </tr>\n",
       "    <tr>\n",
       "      <th>1</th>\n",
       "      <td>(a tale of two friends, o'ryan, ellie)</td>\n",
       "      <td>friendship fiction</td>\n",
       "    </tr>\n",
       "    <tr>\n",
       "      <th>2</th>\n",
       "      <td>(a tale of two friends, o'ryan, ellie)</td>\n",
       "      <td>musicians fiction</td>\n",
       "    </tr>\n",
       "    <tr>\n",
       "      <th>3</th>\n",
       "      <td>(a tale of two friends, o'ryan, ellie)</td>\n",
       "      <td>best friends fiction</td>\n",
       "    </tr>\n",
       "    <tr>\n",
       "      <th>4</th>\n",
       "      <td>(a tale of two friends, o'ryan, ellie)</td>\n",
       "      <td>adventure and adventurers fiction</td>\n",
       "    </tr>\n",
       "  </tbody>\n",
       "</table>\n",
       "</div>"
      ],
      "text/plain": [
       "                                     Item                            Subject\n",
       "0  (a tale of two friends, o'ryan, ellie)               bullfighters fiction\n",
       "1  (a tale of two friends, o'ryan, ellie)                 friendship fiction\n",
       "2  (a tale of two friends, o'ryan, ellie)                  musicians fiction\n",
       "3  (a tale of two friends, o'ryan, ellie)               best friends fiction\n",
       "4  (a tale of two friends, o'ryan, ellie)  adventure and adventurers fiction"
      ]
     },
     "execution_count": 6,
     "metadata": {},
     "output_type": "execute_result"
    }
   ],
   "source": [
    "all_item_subject_pairs_df.head()"
   ]
  },
  {
   "cell_type": "markdown",
   "metadata": {},
   "source": [
    "### Stats\n",
    "\n",
    "Now I can check out a few stats. There are around 450K subjects. 303K subjects occur for only one book, including `bridges northwest pacific juvenile fiction` and `cicindela speciation`."
   ]
  },
  {
   "cell_type": "code",
   "execution_count": 7,
   "metadata": {},
   "outputs": [
    {
     "name": "stdout",
     "output_type": "stream",
     "text": [
      "total items: 1817414\n",
      "total unique subjects: 450371\n",
      "total unique items: 563868\n",
      "\n",
      "subjects with one book: 303239\n"
     ]
    }
   ],
   "source": [
    "print('total items:', len(all_item_subject_pairs_df))\n",
    "print('total unique subjects:', len(all_item_subject_pairs_df.groupby('Subject')))\n",
    "print('total unique items:', len(all_item_subject_pairs_df.groupby('Item')))\n",
    "print()\n",
    "print('subjects with one book:', sum(all_item_subject_pairs_df['Subject'].value_counts() == 1))"
   ]
  },
  {
   "cell_type": "markdown",
   "metadata": {},
   "source": [
    "### Removing subjects with only one item\n",
    "\n",
    "Subjects that only occur once aren't going to give much information about other subjects, so I'll filter them out.\n",
    "This gives me around 150K subjects."
   ]
  },
  {
   "cell_type": "code",
   "execution_count": 8,
   "metadata": {},
   "outputs": [],
   "source": [
    "item_subject_pairs_df = all_item_subject_pairs_df.groupby('Subject').filter(lambda x: len(x) > 1)"
   ]
  },
  {
   "cell_type": "code",
   "execution_count": 9,
   "metadata": {},
   "outputs": [
    {
     "name": "stdout",
     "output_type": "stream",
     "text": [
      "total unique subjects: 147132\n",
      "subjects with one book (should be 0): 0\n"
     ]
    }
   ],
   "source": [
    "print('total unique subjects:', len(item_subject_pairs_df.groupby('Subject')))\n",
    "print('subjects with one book (should be 0):', sum(item_subject_pairs_df['Subject'].value_counts() == 1))"
   ]
  },
  {
   "cell_type": "markdown",
   "metadata": {},
   "source": [
    "## Mappings"
   ]
  },
  {
   "cell_type": "markdown",
   "metadata": {},
   "source": [
    "### Subject to index mappings\n",
    "\n",
    "First I need to map each subject to an index for the `Number of subjects` dimension. To do this I'll have a way to convert an index into a subject and a subject into an index."
   ]
  },
  {
   "cell_type": "code",
   "execution_count": 10,
   "metadata": {},
   "outputs": [],
   "source": [
    "index_to_other_subject = item_subject_pairs_df['Subject'].unique()\n",
    "\n",
    "other_subject_to_index = {\n",
    "    subject: i\n",
    "    for i, subject in enumerate(index_to_other_subject)\n",
    "}"
   ]
  },
  {
   "cell_type": "markdown",
   "metadata": {},
   "source": [
    "### \"Interesting\" subjects\n",
    "\n",
    "To make things run a little faster, I'll also define a set of subjects as the ones I'll want to plot.\n",
    "I'll use subjects that occur at least 100 times."
   ]
  },
  {
   "cell_type": "code",
   "execution_count": 11,
   "metadata": {},
   "outputs": [],
   "source": [
    "INTERESTING_SUBJECT_COUNT_CUTOFF = 100\n",
    "\n",
    "index_to_interesting_subject = item_subject_pairs_df.groupby('Subject').filter(\n",
    "    lambda x: len(x) > INTERESTING_SUBJECT_COUNT_CUTOFF\n",
    ")['Subject'].unique()\n",
    "\n",
    "interesting_subject_to_index = {\n",
    "    subject: i\n",
    "    for i, subject in enumerate(index_to_interesting_subject)\n",
    "}"
   ]
  },
  {
   "cell_type": "markdown",
   "metadata": {},
   "source": [
    "### Subject counts\n",
    "\n",
    "To compute PPMI, I'll also need the number of overall subject counts."
   ]
  },
  {
   "cell_type": "code",
   "execution_count": 12,
   "metadata": {},
   "outputs": [],
   "source": [
    "subject_to_count = dict(item_subject_pairs_df['Subject'].value_counts())"
   ]
  },
  {
   "cell_type": "markdown",
   "metadata": {},
   "source": [
    "## Sparse Matrix\n",
    "\n",
    "\n",
    "\n",
    "Now I want to load this into a subject-subject matrix of size the `Number of _interesting_ subjects x Number of subjects` matrix. Each row will represent the \"interesting\" subjects and columns that represent information I know about those subjects, in this case, the PPMI on co-occurring subjects.\n",
    "\n",
    "PPMI is given by \n",
    "\n",
    "$$PPMI(w_i, w_j) =  \\max\\left(\\log\\left( \\frac{n \\,\\times\\, \\text{count of co-occurrences of }w_i\\text{ and }w_j}{\\text{count of } w_i  \\, \\times \\, \\text{count of } w_j}\\right), 0\\right).$$\n",
    "\n",
    "If you're interested in more information about PPMI and what I'm up to, \n",
    "check out Vector Semantics and Semantics with Dense Vectors in [Speech and Language Processing](http://web.stanford.edu/~jurafsky/slp3/). Specifically: \"Weighing terms: Pointwise Mutual Information (PMI)\", currently in section 15.2.\n",
    "\n",
    "Because this matrix would have 255,000,000 elements, I use `scipy`'s sparse matrices. I use the `coo_matrix`, which is supposed to be good for constructing sparse matrices, and then convert it to a `csr_matrix`, which supports arithmetic operations."
   ]
  },
  {
   "cell_type": "code",
   "execution_count": 13,
   "metadata": {},
   "outputs": [],
   "source": [
    "def word_word_sparse_from_data(\n",
    "    item_to_subjects,\n",
    "    subject_to_count, \n",
    "    interesting_subject_to_index,\n",
    "    other_subject_to_index,\n",
    "):\n",
    "    '''Build a sparse matrix of the subject-subject co-occurrence PPMI's\n",
    "    \n",
    "    returns:  a sparse matrix with size `Number of interesting subjects` x `Number of subjects`\n",
    "    '''\n",
    "    # First count how many times subjects d\n",
    "    # This builds a dictionary that maps an (interesting_subject, other_subject) to a count of co-occurrences.\n",
    "    # The interesting_subject should be in the interesting_subject list defined above (i.e. filter out non-interesting)\n",
    "    # The other_subject should be in the (almost) full list of words (i.e. remove words we filtered from other_subject_to_index)\n",
    "    counts = defaultdict(int)\n",
    "    for title, subjects in item_to_subjects.items():\n",
    "        for interesting_subject in subjects:\n",
    "            # the interesting subject should be in the interesting subjects list\n",
    "            if interesting_subject not in interesting_subject_to_index:\n",
    "                continue\n",
    "            for other_subject in subjects:\n",
    "                # The other subject should not be the same as the main one\n",
    "                if interesting_subject == other_subject:\n",
    "                    continue                \n",
    "                # The other subject needs to be in the larger subject list (occurring at least once)\n",
    "                if other_subject not in other_subject_to_index:\n",
    "                    continue\n",
    "                counts[(interesting_subject, other_subject)] += 1\n",
    "\n",
    "    total = sum(subject_to_count.values())\n",
    "     \n",
    "    # build the three lists I need for the `sp.coo_matrix` call.\n",
    "    interesting_subject_ids = []\n",
    "    other_subject_ids = []\n",
    "    count_ids = []\n",
    "        \n",
    "    for (interesting_subject, other_subject), count in counts.items():\n",
    "        c_i = subject_to_count[interesting_subject]\n",
    "        c_j = subject_to_count[other_subject]\n",
    "        \n",
    "        # PPMI\n",
    "        new_count = np.max(np.log(total * count/(c_i * c_j)), 0)\n",
    "        \n",
    "        # Find these subjects' indices\n",
    "        interesting_subject_ids.append(interesting_subject_to_index[interesting_subject])\n",
    "        other_subject_ids.append(other_subject_to_index[other_subject])\n",
    "        count_ids.append(new_count)\n",
    "    \n",
    "    # Build a sparse matrix from these lists\n",
    "    sparse_word_word = sp.coo_matrix((\n",
    "        count_ids, \n",
    "        (interesting_subject_ids, other_subject_ids)\n",
    "    )).astype(float)\n",
    "    return sparse_word_word.tocsr()\n",
    "\n",
    "sparse_word_word = word_word_sparse_from_data(\n",
    "    items_to_subjects, \n",
    "    subject_to_count, \n",
    "    interesting_subject_to_index,\n",
    "    other_subject_to_index,\n",
    ")"
   ]
  },
  {
   "cell_type": "markdown",
   "metadata": {},
   "source": [
    "## Looking at `sparse_word_word`\n",
    "\n",
    "Using this I could see whether  `political fiction` and `satirical literature` co-occur more or less likely than you'd expect according to its PPMI. In this case, it's `5.281`, so they occur together pretty often!\n",
    "\n",
    "Compare this with the PPMI of `political fiction` and `alphabet` books. This gets a 0 because they co-occurred less frequently than you'd expect."
   ]
  },
  {
   "cell_type": "code",
   "execution_count": 14,
   "metadata": {},
   "outputs": [
    {
     "name": "stdout",
     "output_type": "stream",
     "text": [
      "PPMI for `political fiction` and `satirical literature`: 5.281\n",
      "PPMI for `political fiction` and `alphabet`: 0.000\n"
     ]
    }
   ],
   "source": [
    "def ppmi_for_subjs(subj1, subj2):\n",
    "    print('PPMI for `{}` and `{}`: {:.3f}'.format(\n",
    "        subj1,\n",
    "        subj2,\n",
    "        sparse_word_word[interesting_subject_to_index[subj1], other_subject_to_index[subj2]]\n",
    "    ))\n",
    "\n",
    "ppmi_for_subjs('political fiction', 'satirical literature')\n",
    "ppmi_for_subjs('political fiction', 'alphabet')"
   ]
  },
  {
   "cell_type": "markdown",
   "metadata": {},
   "source": [
    "## Reducing dimensions\n",
    "\n",
    "Now I can use SVD to reduce the number of dimensions. Since I'm just going to plot the points, I'll just reduce it to four dimensions."
   ]
  },
  {
   "cell_type": "code",
   "execution_count": 15,
   "metadata": {},
   "outputs": [],
   "source": [
    "def dense_vecs_from_sparse(sparse_matrix, dimensions):\n",
    "    # center the matrix\n",
    "    sparse_matrix = sparse_matrix - np.mean(sparse_matrix, axis=0)\n",
    "    u, s, v = svds(sparse_matrix, k=dimensions)\n",
    "\n",
    "    return u"
   ]
  },
  {
   "cell_type": "code",
   "execution_count": 16,
   "metadata": {},
   "outputs": [],
   "source": [
    "dimensions = 4\n",
    "\n",
    "vecs = dense_vecs_from_sparse(\n",
    "    sparse_word_word, \n",
    "    dimensions=dimensions, \n",
    ")"
   ]
  },
  {
   "cell_type": "markdown",
   "metadata": {},
   "source": [
    "### Visualizing\n",
    "\n",
    "Let's try to visualize these points in 4-space! \n",
    "I'll draw pairwise plots for each pair of dimensions. I'll also mark the same point, in this case 'documentary film', in all graphs."
   ]
  },
  {
   "cell_type": "code",
   "execution_count": 17,
   "metadata": {},
   "outputs": [],
   "source": [
    "def plot_in_4d(axes, four_dim_vec, plot_args=None, plot_kwargs=None, label=''):\n",
    "    plot_args = plot_args or ['.']\n",
    "    plot_kwargs = plot_kwargs or {}\n",
    "    for i in range(3):\n",
    "        for j in range(i + 1, 4):\n",
    "            axes[j - 1, i].plot(four_dim_vec[:, i], four_dim_vec[:, j], *plot_args, **plot_kwargs)\n",
    "                        \n",
    "        for j in range(0, i):\n",
    "            axes[j, i].axis('off')"
   ]
  },
  {
   "cell_type": "code",
   "execution_count": 18,
   "metadata": {
    "scrolled": false
   },
   "outputs": [
    {
     "data": {
      "image/png": "[encoded data removed]",
      "text/plain": [
       "<matplotlib.figure.Figure at 0x1387bc5c0>"
      ]
     },
     "metadata": {},
     "output_type": "display_data"
    }
   ],
   "source": [
    "topic = 'documentary films'\n",
    "vec = vecs[interesting_subject_to_index[topic], None]\n",
    "\n",
    "fig, axes = plt.subplots(3, 3, figsize=(16, 16), sharex=True, sharey=True)\n",
    "\n",
    "plot_in_4d(axes, vecs, plot_kwargs={'color': 'lightgray'})\n",
    "plot_in_4d(axes, vec, plot_args=['xk'], label=topic)\n",
    "\n",
    "maybe_save_plot('2018-05-16-4d-plot')\n",
    "plt.show()"
   ]
  },
  {
   "cell_type": "markdown",
   "metadata": {},
   "source": [
    "I haven't sorted out why points like `documentary films` are so far away. I've seen suggestions that I should make the original data have unit variance. I didn't do it this time around because it seems trickier with the `sparse` matrices."
   ]
  },
  {
   "cell_type": "markdown",
   "metadata": {},
   "source": [
    "### Highlighting a few points\n",
    "\n",
    "This is fun to explore! Here I plot a few different subjects. There seems to be one dimension for films, books, ending in a little corner for graphic novels and comic books. The other dimension stretches from children's books to other fiction to mystery and thriller books.\n",
    "\n",
    "Next, I can take one view and highlight a few different subjects."
   ]
  },
  {
   "cell_type": "code",
   "execution_count": 19,
   "metadata": {
    "scrolled": false
   },
   "outputs": [
    {
     "data": {
      "image/png": "[encoded data removed]",
      "text/plain": [
       "<matplotlib.figure.Figure at 0x1328df5c0>"
      ]
     },
     "metadata": {},
     "output_type": "display_data"
    }
   ],
   "source": [
    "fun_topics = [\n",
    "    'documentary films',\n",
    "    'fiction films',\n",
    "    'mystery fiction',\n",
    "    'thrillers fiction',\n",
    "    'audiobooks',\n",
    "    'friendship juvenile fiction',\n",
    "    'graphic novels',\n",
    "    'science fiction',\n",
    "    'large type books',\n",
    "    'television series',\n",
    "    'chinese language materials',\n",
    "    'picture books for children',\n",
    "    'serial murderers fiction',\n",
    "]\n",
    "\n",
    "fig, axes = plt.subplots(1, 1, figsize=(16, 16), sharex=True, sharey=True)\n",
    "\n",
    "x_dim = 2\n",
    "y_dim = 1\n",
    "\n",
    "axes.plot(vecs[:, x_dim], vecs[:, y_dim], '.', color='lightgray')\n",
    "\n",
    "for topic in fun_topics:\n",
    "    x = vecs[interesting_subject_to_index[topic], x_dim]\n",
    "    y = vecs[interesting_subject_to_index[topic], y_dim]    \n",
    "    axes.plot(x, y, 'xk')\n",
    "    axes.annotate(topic, (x - 0.002, y + 0.005), fontsize=14)\n",
    "\n",
    "maybe_save_plot('2018-05-16-labeled-plot')\n",
    "plt.show()"
   ]
  },
  {
   "cell_type": "markdown",
   "metadata": {},
   "source": [
    "### Interactive\n",
    "\n",
    "I also tried making an interactive plot using `bokeh`. This is a little funky for now, but I'm posting it because it's really fun."
   ]
  },
  {
   "cell_type": "code",
   "execution_count": 20,
   "metadata": {},
   "outputs": [
    {
     "ename": "NameError",
     "evalue": "name 'u' is not defined",
     "output_type": "error",
     "traceback": [
      "\u001b[0;31m---------------------------------------------------------------------------\u001b[0m",
      "\u001b[0;31mNameError\u001b[0m                                 Traceback (most recent call last)",
      "\u001b[0;32m<ipython-input-20-012317c2187c>\u001b[0m in \u001b[0;36m<module>\u001b[0;34m()\u001b[0m\n\u001b[1;32m     35\u001b[0m \u001b[0;34m\u001b[0m\u001b[0m\n\u001b[1;32m     36\u001b[0m \u001b[0;34m\u001b[0m\u001b[0m\n\u001b[0;32m---> 37\u001b[0;31m \u001b[0mplot\u001b[0m\u001b[0;34m(\u001b[0m\u001b[0mu\u001b[0m\u001b[0;34m,\u001b[0m \u001b[0;34m'x1'\u001b[0m\u001b[0;34m,\u001b[0m \u001b[0;34m'x2'\u001b[0m\u001b[0;34m)\u001b[0m\u001b[0;34m\u001b[0m\u001b[0m\n\u001b[0m",
      "\u001b[0;31mNameError\u001b[0m: name 'u' is not defined"
     ]
    }
   ],
   "source": [
    "from bokeh.models import HoverTool\n",
    "from bokeh.plotting import figure, show, output_file, ColumnDataSource\n",
    "from bokeh.layouts import gridplot\n",
    "from bokeh.palettes import magma\n",
    "\n",
    "def plot(u, x_dim='x1', y_dim='x2', descs=index_to_interesting_subject):\n",
    "\n",
    "    source = ColumnDataSource(data=dict(\n",
    "        x1=u[:, 0],\n",
    "        x2=u[:, 1],\n",
    "        x3=u[:, 2],\n",
    "        x4=u[:, 3],\n",
    "        desc=descs,\n",
    "    ))\n",
    "\n",
    "    hover = HoverTool(tooltips=[\n",
    "        (\"index\", \"$index\"),\n",
    "        (\"desc\", \"@desc\"),\n",
    "    ])\n",
    "\n",
    "    p = figure(plot_width=800, plot_height=800, tools=[hover, 'zoom_in', 'pan', 'zoom_out'])\n",
    "    p.scatter(\n",
    "        x_dim, y_dim,\n",
    "        size=5,\n",
    "        source=source,\n",
    "        line_color=None,\n",
    "        alpha=0.8,\n",
    "    )\n",
    "\n",
    "    grid = gridplot([[p]])\n",
    "\n",
    "    output_file(\"2018_05_16_library_catalog_subjects_{}_{}.html\".format(x_dim, y_dim), title=\"Library Catalog Subjects\")\n",
    "    \n",
    "    show(grid)\n",
    "    \n",
    "    \n",
    "plot(u, 'x1', 'x2')"
   ]
  },
  {
   "cell_type": "markdown",
   "metadata": {},
   "source": [
    "## See Also\n",
    "\n",
    " - This data is also available on [data.seattle.gov](https://data.seattle.gov/Community/Checkouts-by-Title/tmmm-ytt6), which tells me that I should say:\n",
    "> \"The data made available here has been modified for use from its original source, which is the City of Seattle. Neither the City of Seattle nor the Office of the Chief Technology Officer (OCTO) makes any claims as to the completeness, timeliness, accuracy or content of any data contained in this application; makes any representation of any kind, including, but not limited to, warranty of the accuracy or fitness for a particular use; nor are any such warranties to be implied or inferred with respect to the information or data furnished herein. The data is subject to change as modifications and updates are complete. It is understood that the information contained in the web feed is being used at one's own risk.\"\n",
    "\n",
    " - I found it via [kaggle](https://www.kaggle.com/seattle-public-library/seattle-library-checkout-records)"
   ]
  },
  {
   "cell_type": "code",
   "execution_count": null,
   "metadata": {},
   "outputs": [],
   "source": []
  }
 ],
 "metadata": {
  "kernelspec": {
   "display_name": "Python 3",
   "language": "python",
   "name": "python3"
  },
  "language_info": {
   "codemirror_mode": {
    "name": "ipython",
    "version": 3
   },
   "file_extension": ".py",
   "mimetype": "text/x-python",
   "name": "python",
   "nbconvert_exporter": "python",
   "pygments_lexer": "ipython3",
   "version": "3.6.1"
  }
 },
 "nbformat": 4,
 "nbformat_minor": 2
}
